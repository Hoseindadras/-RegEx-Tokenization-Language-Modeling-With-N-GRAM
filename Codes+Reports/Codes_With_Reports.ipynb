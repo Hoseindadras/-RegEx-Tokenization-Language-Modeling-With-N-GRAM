{
  "cells": [
    {
      "cell_type": "markdown",
      "metadata": {
        "id": "VpUfyHm5H6m0"
      },
      "source": [
        "# Natural Language Processing (NLP)\n",
        "---\n"
      ]
    },
    {
      "cell_type": "markdown",
      "metadata": {
        "id": "EyWIgifpnOE2"
      },
      "source": [
        "## **RegEx & Tokenization & Language Modeling With N-GRAM**\n",
        "\n",
        "---"
      ]
    },
    {
      "cell_type": "markdown",
      "metadata": {},
      "source": [
        "## **Personal Information**"
      ]
    },
    {
      "cell_type": "markdown",
      "metadata": {},
      "source": [
        "**Name:** Hosein Dadras  \n",
        "\n",
        "**Personal Gmail:** Hoseindadras6@gmail.com  \n",
        "**َAcademic Mail:** Hoseindadras@ut.ac.ir  \n",
        "\n",
        "---"
      ]
    },
    {
      "cell_type": "markdown",
      "metadata": {},
      "source": [
        "## **Table of Contents**"
      ]
    },
    {
      "cell_type": "markdown",
      "metadata": {},
      "source": [
        "1. [Chapter 1: RegEx & NER & Tokenization & EDs](#Chapter-1)\n",
        "    - [CH1-Data: About Dataset (ner.txt)](#CH1-data)\n",
        "    - [Part 1.1: Named Entity Recognition (NER) & Use RegEx in NER](#ner)\n",
        "    - [Part 1.2: Regular Expressions (RegEx)](#regex)\n",
        "    - [Part 1.3: Advantages & Disadvantages using RegEx in NER](#advantage_disadv)\n",
        "    - [Part 2.1: Rule-Based & ML-Based Tokenizations](#Tokenizer)\n",
        "    - [Part 2.2: Whitespace Tokenization](#Whitespace)\n",
        "    - [Part 3.1: Levenshtein & Damerau-Levenshtein Distances](#Levenshtein_DamerauLevenshtein_Distance)\n",
        "    - [Part 3.2: Implement of Distances](#implemented_Distances)\n",
        "2. [Chapter 2: N-Gram Language Models](#Chapter-2)\n",
        "    - [CH2-Data: About Dataset](#CH2-data)\n",
        "    - [Part 1.1: WordPiece](#Wordpiece_Tokenizer)\n",
        "    - [Part 1.2: Models Using WordPiece](#Models)\n",
        "    - [Part 1.3: Comparision with BPE](#BPE)\n",
        "    - [Part 2.1: Train Wordpiece Tokenizer on Ferdowsi](#Ferdowsi_Tokenizatoin)\n",
        "    - [Part 2.2: Test & Tokenizer With Trained Tokenizer](#Tokenize)\n",
        "    - [Part 3.1: N-Gram & Previous Tokenizer](#NGRAM_Pre_Tok)\n",
        "    - [Part 3.2: Train Model & Text Generation](#Train&Gernerate)\n",
        "    - [Part 3.3: Big N in N-GRAM & Challenges](#Big_N_in_NGRAM)\n",
        "    - [Part 3.A: Analysis of Generated Text](#Analysis_Gernerated)\n",
        "    - [Part 4.1: Perplexity Criterion](#perplexity-criterion)\n",
        "    - [Part 4.2: Perplexity on Hafez & Modern Poem](#Pre_NGRAM_Compares)\n",
        "    - [Paer 4.A: Analysis of Perplexities](#Analyze_Perplex)\n",
        "3. [Chapter 3: N-Gram as a Classifier](#Chapter-3)\n",
        "    - [Part 1.1: N-Gram As a Classifier](#NGRAM_Classifier)\n",
        "    - [Part 1.2: Big N & Low Data](#bign_lowdata)\n",
        "    - [Part 2.1: BPE Tokenizer](#BPE_Tokenizer)\n",
        "    - [Part 2.2: Tokenize the Dataset](#Tokenize_BPE)\n",
        "    - [Part 3.1: N-GRAM & Classification](#Classification_NGRAM)\n",
        "    - [Part 3.2: 2-3-GRAM](#SplitData_32Gram)\n",
        "    - [Part 3.3: Criterion on Models](#Criterion_Models)\n",
        "    - [Part 3.4: Results Analysis](#Analysis)\n",
        "4. [Chapter 4: Image tokenization](#Chapter-4)\n",
        "    - [Part 1.1: Image Tokenization & Vision Transformer](#IT_VT)\n",
        "    - [Part 1.2: MNIST & KMeans](#Kmeans)\n",
        "    - [Part 2.1: 4-GRAM](#4Gram_Image)\n",
        "    - [Part 2.2: Accuracy](#accuracy)\n",
        "    - [Part 2.plot: Plot-predictions](#plot)\n",
        "5. [References](#ref)\n",
        "\n",
        "\n",
        "---\n",
        "\n"
      ]
    },
    {
      "cell_type": "markdown",
      "metadata": {
        "id": "NrNzafCWY3rh"
      },
      "source": [
        "\n",
        "## **Chapter 1: RegEx & NER & Tokenization & EDs**<a name=\"Chapter-1\"></a>"
      ]
    },
    {
      "cell_type": "markdown",
      "metadata": {},
      "source": [
        "- **Dataset ner.txt**\n",
        "- **Regular Expressions (RegEx)**\n",
        "- **Named Entity Recognition (NER)**\n",
        "    - **Email Extraction**\n",
        "    - **Urls Extraction**\n",
        "    - **Phone Numbers Extraction**\n",
        "- **Tokenization**\n",
        "    - **Rule-based Tokenizers**\n",
        "        - **Whitespace Tokenizer**\n",
        "    - **ML-based Tokenizers**\n",
        "- **Edit Distance** \n",
        "    - **Levenshtein Distance**\n",
        "    - **Damerau-Levenshtein Distance** \n",
        "\n",
        "---"
      ]
    },
    {
      "cell_type": "markdown",
      "metadata": {
        "id": "XPx0CS-2mCWo"
      },
      "source": [
        "### CH1-Data: **About Dataset (ner.txt)**<a name=\"CH1-data\"></a>"
      ]
    },
    {
      "cell_type": "markdown",
      "metadata": {},
      "source": [
        "The dataset provided is a textual document that focuses on **trends** and **innovations** in the **Digital Marketing Industry**. \n",
        "\n",
        "It contains valuable information about **cutting-edge marketing strategies**, **technological advancements**, and **company profiles** shaping the future of digital advertising."
      ]
    },
    {
      "cell_type": "markdown",
      "metadata": {},
      "source": [
        "\n",
        "---"
      ]
    },
    {
      "cell_type": "markdown",
      "metadata": {
        "id": "H-yURHt-mHkJ"
      },
      "source": [
        "\n",
        "#### **Some information about Dataset**\n",
        "- **Topics Covered:**\n",
        "    - The text covers a wide range of topics in digital marketing, including:\n",
        "        - **AI(Artificial Intelligence)**\n",
        "        - **AR(Augmented Realistic)** \n",
        "        - **programmatic advertising**\n",
        "        - **Influencer marketing** \n",
        "        - **customer experience optimization**\n",
        "    - Companies and organizations at the forefront of these trends include:\n",
        "        - **VRInnovations**\n",
        "        - **TechAdvisors**\n",
        "        - **DeepAd**\n",
        "\n",
        "- **Entities Present:**\n",
        "    - **Companies & Organizations:** Various marketing firms are mentioned, providing business context.\n",
        "    - **Contact Information:** \n",
        "        - **Emails** \n",
        "        - **phone numbers**\n",
        "        - **website links are useful for networking and outreach**\n",
        "\n",
        "- **Structured Data:**\n",
        "    - **Emails:** Various formats are included, associated with individuals or departments.\n",
        "    - **Phone Numbers:** Multiple international and domestic phone numbers.\n",
        "    - **URLs:** Corporate websites, blogs, and research papers.\n",
        "\n",
        "- **An Example of Dataset:**\n",
        "    \n",
        "    - **To stay ahead of the curve, businesses must stay informed about the legal regulations surrounding digital marketing. In an article by LegalEagle (visit: https://www.legaleagle.org/marketing-laws), experts warned of the stringent data privacy laws being implemented in regions like the EU. For more legal insights, contact their team at info@legaleagle.org or call +33 1 2345 6789.**\n",
        "\n",
        "    - **Lastly, customer experience will continue to shape the future of digital marketing. Companies like CXInnovators (website: https://www.cxinnovators.com) are pioneering new ways to create seamless, personalized customer journeys. Their CEO, Paul Jenkins, can be reached at paul.jenkins@cxinnovators.com or at +1-646-555-9988 for more insights. The CXInnovators blog, updated weekly, provides valuable tips on enhancing customer experience at https://www.cxinnovators.com/blog.**\n",
        "----"
      ]
    },
    {
      "cell_type": "markdown",
      "metadata": {
        "id": "aL2ChPe3YeV9"
      },
      "source": [
        "### Part 1.1: **Named Entity Recognition (NER)** <a name=\"ner\"></a>"
      ]
    },
    {
      "cell_type": "markdown",
      "metadata": {},
      "source": [
        "- **Named Entity Recognition (NER)**-also called entity chunking or entity extraction\n",
        "\n",
        "- Is a component of NLP that identigies predefined categories of objects in a body of text. \n",
        "\n"
      ]
    },
    {
      "cell_type": "markdown",
      "metadata": {},
      "source": [
        "- Human language are complex. They get even more complex when context shows up on the horizon. \n",
        "\n",
        "- Let's take the name 'Lincoln', for example. Some people with instantly think of the 16th president of the USA, a towering historical figure. \n",
        "\n",
        "- For others, however, this will be a car manufacturer with the same name. A simple word, it has different meanings. \n",
        "\n"
      ]
    },
    {
      "cell_type": "markdown",
      "metadata": {},
      "source": [
        "- As humans, we discern meanings and catogories effortlessly. This is a testment to our intuitive grasp of the world around us.\n",
        "\n",
        "- When it comes to computers, this seemingly straightforward task becomes a challenge packed with ambiguity.  \n",
        "\n",
        "- Such complexities underscore the need for **robust Named Entity Recognition or NER-a mechanism** by which **we teach machines to understand various linguistic nuances**. \n",
        "\n"
      ]
    },
    {
      "cell_type": "markdown",
      "metadata": {},
      "source": [
        "- **NER** is a subfield of NLP that focuses on **identifying** and **classifying** **specific data points from textual content**. \n",
        "\n",
        "- NER works with salient details of the text, known as **Named Entities**\n",
        "    - Single words\n",
        "    - Pharases\n",
        "    - Sequences of words\n",
        "    \n",
        "    \n",
        "    by identifying and catogorizing them into predefined groups\n",
        "\n"
      ]
    },
    {
      "cell_type": "markdown",
      "metadata": {},
      "source": [
        "- The Categories encompass a diverse range of subjects present within the text, including:\n",
        "    - **Individuals' names**\n",
        "    - **geographic locations**\n",
        "    - **Organizational names** \n",
        "    - **Dates**\n",
        "    - **Events**\n",
        "    - Even specific quantitative values such as **money** and **percentages**"
      ]
    },
    {
      "cell_type": "markdown",
      "metadata": {},
      "source": [
        "#### **Key Concept of NER**"
      ]
    },
    {
      "cell_type": "markdown",
      "metadata": {},
      "source": [
        "- **POS tagging:**\n",
        "    \n",
        "    - Standing for **part-of speech**, this process assigns labels to words in a text corresponding to their specific part of speech, such as adjectives, verbs, or nauns. \n",
        "\n",
        "- **Corpus:** \n",
        "    - This is a collection of texts used for linguistic analysis and training NER models. A Corpus can range from a set of news articles to academic journals or even social mediaa posts. \n",
        "\n",
        "- **Chunking:** \n",
        "    - This is an NLP tech that groups individual words or pharases into \"Chunks\" based on their syntactic roles, creating meaningful clusters like noun phrases or verb phrases. \n",
        "\n",
        "- **Word Embedding:** \n",
        "    - These are dense vector representations of words, capturing their semantic meanings. Word embeddings translate words or phrases into numerical vectors of fixed size, making it easier for machine learning models to process. Tools like Word2Vec, and Glove are popular for generating such embeddings, and they help in understanding the context and relationships between words in a text. "
      ]
    },
    {
      "cell_type": "markdown",
      "metadata": {},
      "source": [
        "#### **NER example**\n",
        "\n"
      ]
    },
    {
      "cell_type": "markdown",
      "metadata": {},
      "source": [
        "- Consider the sentence: \n",
        "    - **\"Hosein from the AI department said that The Parsian Tehran was a great hotel option to stay in Tehran.\"**\n",
        "    \n",
        "- Now --**With NER**:\n",
        "    - **Hosein(PERSON) from the AI department said The Parsian(ORG) Tehran was a great hotel option to stay in Tehran(GPE)**\n",
        "    \n",
        "- In this sentences:\n",
        "    - **\"Hosein\"** is labeled as **PERSON**, indicating that it is an entity representing a **preson's name**. \n",
        "    \n",
        "    - **The Parsian** is tagged as **ORG**, which stands for **Organization**. This means it is recognized as an entity that refers to campanies, agencies, institutions, etc.\n",
        "    \n",
        "    - **\"Tehran\"** has been classified as **GPE**, which stands for **GeoPolitical Entity**. GPEs represent conutries, cities, states, or any other reqions with a defined boundary or governance.\n",
        "    \n",
        "\n",
        "In essence, if we aim to discern a text's **Who, Where, What, and When**, **NER** is the technique to use.\n",
        "\n",
        "---"
      ]
    },
    {
      "cell_type": "markdown",
      "metadata": {},
      "source": [
        "#### **How NER works?**\n"
      ]
    },
    {
      "cell_type": "markdown",
      "metadata": {},
      "source": [
        "- **Two Steps:**    \n",
        "    \n",
        "    - **Step 1:**\n",
        "        Identifying entities within the text.\n",
        "    \n",
        "    - **Step 2:**\n",
        "        Catogorizing these entities into distinct groups (Classifying entities into categories).\n",
        "\n",
        "---\n",
        "- **An Example:**\n",
        "    - **Microsoft announced a new AI tool in seatle**\n",
        "\n",
        "        - **Step 1:**\n",
        "\n",
        "            - **POS**\n",
        "\n",
        "                - Microsoft/NNP announced/VBD a/DT new/JJ AI/NN tool/NN in/IN seattle/NNP\n",
        "            \n",
        "                - **/NNP (Proper Noun, Singular)**: Refers to proper nouns that are singular. Proper nouns are specific names of people, places, or organizations.\n",
        "                    - \"Microsoft\", \"John\", \"Paris\"\n",
        "            \n",
        "                - **/VBD (Verb, Past Tense)**: Refers to verbs in their past tense form.\n",
        "                    - \"ran\", \"walked\", \"announced\"\n",
        "            \n",
        "                - **DT (Determiner)**: Refers to determiners, which introduce nouns and help specify them.\n",
        "                    - \"the\", \"a\", \"an\", \"this\"\n",
        "            \n",
        "                - **JJ (Adjective)**: Refers to adjectives, which describe or modify nouns.\n",
        "                    - \"beautiful\", \"red\", \"quick\"\n",
        "            \n",
        "                - **NN (Noun, Singular or Mass)**: Refers to singular nouns or mass nouns. A noun represents a person, place, thing, or idea.\n",
        "                    - \"dog\", \"city\", \"water\"\n",
        "            \n",
        "                - **IN (Preposition or Subordinating Conjunction)**: Refers to prepositions (words that link nouns, pronouns, or phrases to other words) or subordinating conjunctions.\n",
        "                    - \"in\", \"on\", \"at\", \"because\"\n",
        "                    \n",
        "        - **Step 2:**\n",
        "\n",
        "            - **Chunking**\n",
        "            \n",
        "                - [NP Microsoft] [VP announced] [NP a new AI tool] [PP in Seattle]\n",
        "                \n",
        "                - **NP (Noun Pharases)**\n",
        "                - **VP (Verbal Pharases)**\n",
        "                - **PP (Propositional Pharases)**\n",
        "\n",
        "        - **Step 3:**\n",
        "\n",
        "            - **NER**\n",
        "            \n",
        "                - \"Microsoft\" -> ORGANIZATION\n",
        "            \n",
        "                - \"Seatle\" -> LOCATION\n",
        "            "
      ]
    },
    {
      "cell_type": "markdown",
      "metadata": {},
      "source": [
        "#### **Approaches to NER**"
      ]
    },
    {
      "cell_type": "markdown",
      "metadata": {},
      "source": [
        "NER has evolved significantly over the years, with multiple approaches being developed to tackle its challenges to tackle its challenges.\n",
        "\n",
        "- **Common NER methods :**\n",
        "\n",
        "    - **The rule-based methods of NER**\n",
        "    \n",
        "    - **Machine learning-based method of NER**\n",
        "    \n",
        "\n",
        "---\n"
      ]
    },
    {
      "cell_type": "markdown",
      "metadata": {
        "id": "Qfi9SI5tmTr1"
      },
      "source": [
        "\n",
        "#### **The Core Goals of NER**"
      ]
    },
    {
      "cell_type": "markdown",
      "metadata": {},
      "source": [
        "\n",
        "- **Facilitating Information Extraction**\n",
        "\n",
        "   - NER plays a critical role in extracting meanings, structured data from vast amounts of unstructured text. Whether it's legal documents, research papers, or news articles, NER helps identify and pull out important entities like people, organizations, or locations, transforming raw text into actionable information. This is particulrly useful in areas like **AI Developing, Business Intelligence, Context Analysis, and Data Mining**.\n",
        "\n",
        "- **Streamlining Data Orginization and Indexing** \n",
        "\n",
        "    - NER assists in organizing and categorizing large datasets by tagging essential entities. This structured tagging makes it easier to organize informatoin systematically, enabling more efficient indexing and retrival of relevant data. Industries dealing with high volumes of data--Such as **Healthcare, Finance, and Customer Support**--benefit from this enhanced ability to manage content more effectively.\n",
        "\n",
        "- **Enhancing Search Engine Functionality** \n",
        "\n",
        "    - One of the primary uses of NER is to improve the accuracy and relevance of search results. By recognizing specific entities within a query, search engines can deliver more precise information that aligns closely with uset intent. This capability is especially valuable in specialized search engines, such as those used in **Academic or Legal Research**, where identifying proper nouns and specific term is critical.\n",
        "\n",
        "- **Improving Content Recommendation Systems** \n",
        "\n",
        "    - NER enables recommendation engines to become more effective by identifying entities that reflect user preferences. For instance, in **Entertainment Platforms or News Aggregation Services**, NER can identify key interest (e.g., **Favorite actors, Companies, or Places**) and tailor content recommendations based on these identified entities, resulting in a more personalized user experience.\n",
        "\n",
        "- **Refining Sentiment and Opinion Analysis** \n",
        "\n",
        "    - In the context of **Social Media monitoring or customer feedback analysis**, NER allows organizations to focus sentiment analysis on specific entities like **Brands, Products, or Public Figures**. By extracting entities from user comments or reviews, companies can gain deeper insights into how these specific entities are percieved, helping them make informed Business or reputational decisions. \n",
        "\n",
        "- **Optimizing Question-Answering Systems** \n",
        "\n",
        "    - NER is instrumental in enhancing the accuracy and performance of QA Systems, such as **Virtual Assistants and ChatBots**. By indentifying the entities within a user's query, the system can deliver more focused and accurate answers, improving the overall quality and efficiency of responses. This is particularly relevant in **Customer Service, Healthcare, and Educational Platforms** where quick and correct responses are essential.\n",
        "\n",
        "- **Preserving Key Information in Machine Translation and Summerization** \n",
        "\n",
        "    - When translating  text between languages or summerizing lengthy documents, NER ensures that critical entities--such as Names, Dates, and Locations--are correctly preserved. This is cruicial in applications like **Legal or Medical Translations**, where the misidentification of an entities could lead to serious errors. Similarly, in \"Summerization\" taks, NER helps retain **The Most Important Information**, ensuring summaries remain relevant accurate.\n",
        "\n",
        "- **Supporting Financial & Legal Analytics** \n",
        "\n",
        "    - In highly regulated industries like **Finance and Law**, NER is used to extract and analyze key information from Documents, such as **Contracts, Financial, Reports, or Legal Filings**. NER can quickly identify entities suuch as **Company Names, Monetary Values, Dates, or Legal Preference**, facilitating **Faster Decision-making, Compliance Checks, and Trend analysis**. This automation reduces manual labor and increase accuracy, making it a valuable tool for professinals in these sectors. \n",
        "\n"
      ]
    },
    {
      "cell_type": "markdown",
      "metadata": {
        "id": "ST4HNQmBmXbo"
      },
      "source": [
        "#### **Challenges in NER**\n"
      ]
    },
    {
      "cell_type": "markdown",
      "metadata": {},
      "source": [
        "- **Handling Ambiguity in Entity Identification**\n",
        "\n",
        "Ambiguity is one of the primary challenges in NER, where the same word can represent multiple different entities depending on the context. For instance, \"Apple\" could refer to the technology company or the fruit, and \"IRAN\" might refer a person, a country, or a state. Resolving these ambiguities requires sophisticated disambiguation algorithms that can analyze the context in which the entity appears, ensuring that the correct entity is identified. This challenge often necessitatess the integration of external knowledge based, such as **Wikipedia or Domain-Specific Ontologies**, to provide clarity and accurate entity classification.\n",
        "\n",
        "- **Navigating Context Sensitivity in Entity Recognition**\n",
        "\n",
        "Determining whether a word should be classified as an entity or a common noun requires a deep understanding of context. For example the word \"Amazon\" can refer to A Company, A River (In South America), A Rainforest, or A General noun depending on the surronding text. NER systems must be capable of distinguishing when a word represents a specific entity versus when it is used in a more generic sense.\n",
        "\n",
        "- **Addressing Domain-Specific Adaptations for Specialized Fields**\n",
        "\n",
        "NER systems face significant challenges when applied to domain-specific texts, such as **Legal, Medical, or Scientific documents**. Each field comes with its own set of **Terminologies, Abbreviations, and Naming conventions** that may not be easily recognized by generic NER models.\n",
        "\n"
      ]
    },
    {
      "cell_type": "markdown",
      "metadata": {
        "id": "FvZUt48oZPLO"
      },
      "source": [
        "### Part 1.2: **Regular Expressions (RegEx)** <a name=\"regex\"></a>\n"
      ]
    },
    {
      "cell_type": "markdown",
      "metadata": {
        "id": "7zK6BInPlPiA"
      },
      "source": [
        "#### **Import libraries & Load Data & Visualizations**"
      ]
    },
    {
      "cell_type": "markdown",
      "metadata": {
        "id": "9nc3jBz0lvEY"
      },
      "source": [
        "##### **Import necessary libraries**"
      ]
    },
    {
      "cell_type": "code",
      "execution_count": 9,
      "metadata": {
        "id": "84gOOCynlc3P"
      },
      "outputs": [],
      "source": [
        "import numpy as np\n",
        "import pandas as pd\n",
        "import os\n",
        "import re\n",
        "import random"
      ]
    },
    {
      "cell_type": "markdown",
      "metadata": {
        "id": "FgbtB0H7gf7J"
      },
      "source": [
        "##### **Loading the Data**"
      ]
    },
    {
      "cell_type": "code",
      "execution_count": 10,
      "metadata": {
        "id": "hQFsTc56jR5J"
      },
      "outputs": [],
      "source": [
        "file_path = rXXXX"
      ]
    },
    {
      "cell_type": "code",
      "execution_count": 11,
      "metadata": {
        "id": "fCuVYXjLjUJy"
      },
      "outputs": [],
      "source": [
        "with open(file_path, 'r', encoding='utf-8') as file:\n",
        "    text_data = file.read()"
      ]
    },
    {
      "cell_type": "markdown",
      "metadata": {
        "id": "ugwk8PjEgvPc"
      },
      "source": [
        "##### **Data Visualization**"
      ]
    },
    {
      "cell_type": "markdown",
      "metadata": {},
      "source": [
        "##### **Splitting the Text into Sequences**"
      ]
    },
    {
      "cell_type": "code",
      "execution_count": 12,
      "metadata": {
        "id": "mq6emjPQjX9h"
      },
      "outputs": [],
      "source": [
        "def split_into_sentences(text):\n",
        "    sentence_endings = re.compile(r'(?<!\\w\\.\\w.)(?<![A-Z][a-z]\\.)(?<=\\.|\\?)\\s')\n",
        "    sentences = sentence_endings.split(text)\n",
        "    return sentences"
      ]
    },
    {
      "cell_type": "markdown",
      "metadata": {},
      "source": [
        "- **Negative Lookbehinds**\n",
        "\n",
        "- **Positive Lookbehind**\n",
        "\n",
        "- **Whitespace Matching**"
      ]
    },
    {
      "cell_type": "markdown",
      "metadata": {},
      "source": [
        "##### **(?<! \\w\\.\\w. )**\n",
        "\n",
        "To avoid splitting sentences when periods occur in certain abbreviations or initials. \n",
        "\n",
        "This is a **Negative lookbehind assertion**, which checks for a specific pattern before the current position and ensures that pattern is not present. \n",
        "\n",
        "- **\"\\w\":** Represents any word character (letter, digits, underscores).\n",
        "\n",
        "- **\"\\.\\w.\":** Is checking for a period between two word characters. For example, in **J.R.**, this would match because there are periods surrounded by single letters.\n",
        "\n",
        "Thise prevents splitting on periods used in abbreviations or initial like **Dr. , e.g., or J.k.**. Without this, sentences would be wrongly split at these points."
      ]
    },
    {
      "cell_type": "markdown",
      "metadata": {},
      "source": [
        "##### **( ?<! [A-Z][a-z]\\.)**\n",
        "\n",
        "To avoid splitting sentences after initials that may not involve middle names but part of a proper name (**e.g., Mr. or Mrs.**)\n",
        "\n",
        "This is another **Negative Lookbehind Assertion**.\n",
        "\n",
        "- **\"[A-Z]\":** Looks for a capital letter (indicating a potential abbreviation or title).\n",
        "\n",
        "- **\"[a-z]\":** Chacks for a lowercase letter followed by a period.\n",
        "\n",
        "This prevents splitting after title-like abbreviations, such as **Mr. , Mrs. , Dr. or Ms.**.Without this, the RegEx might incorrectly assume that **Mr.** is the end of a sentence, when it's actually part of a title."
      ]
    },
    {
      "cell_type": "markdown",
      "metadata": {},
      "source": [
        "##### **(?<= \\. | \\?)**\n",
        "\n",
        "To ensure that the split occurs after sentence-ending punctuation, specifically a period (.) or a question mark (?).\n",
        "\n",
        "This is a **Positive Lookbehind Assertion**, which meaans the RegEx is only interested in places where a period or question mark precedes the whitespace.\n",
        "\n",
        "- **\"\\.\":** Checks for a period.\n",
        "\n",
        "- **\"\\?\":** Checks for a question mark.\n",
        "\n",
        "- **\"(?<=\\.|\\?)\":** Ensures that the match only occurs if the current position follows a period or question mark."
      ]
    },
    {
      "cell_type": "markdown",
      "metadata": {},
      "source": [
        "#### **\\s**\n",
        "\n",
        "To split based on whitespace after a period or question mark.\n",
        "\n",
        "The **\\s** matches any whitespace character, including spaces, tabs, or newlines. This ensures that sentences are split wherever there is a space after the period or question mark, which is a common indicator that a new sentence is starting \n",
        "\n",
        "For example, \"This is a sentence. This is another sentence\", the RegEx will split after the space following the period."
      ]
    },
    {
      "cell_type": "markdown",
      "metadata": {},
      "source": [
        "##### **Splitting the Text into Paragraphs**"
      ]
    },
    {
      "cell_type": "code",
      "execution_count": 13,
      "metadata": {
        "id": "eYfkxnW3jZRN"
      },
      "outputs": [],
      "source": [
        "def split_into_paragraphs(text):\n",
        "    paragraphs = text.split('\\n\\n')\n",
        "    return paragraphs"
      ]
    },
    {
      "cell_type": "markdown",
      "metadata": {},
      "source": [
        "This function splits the input text into paragraphs. It assumes that paragraphs are separated by double newline characters **(\\n\\n)**. Each block of text between these newline characters is treated as a paragraph.\n",
        "\n",
        "By splitting the text in this manner, we can preserve the structure of the input and retrieve entire paragraphs, which is useful when performing operations that require context beyond individual sentences."
      ]
    },
    {
      "cell_type": "markdown",
      "metadata": {},
      "source": [
        "##### **Selecting a Random Sentence**"
      ]
    },
    {
      "cell_type": "code",
      "execution_count": 14,
      "metadata": {
        "id": "S5D67puujbCS"
      },
      "outputs": [
        {
          "name": "stdout",
          "output_type": "stream",
          "text": [
            "Sample Sentence:\n",
            "Lastly, customer experience will continue to shape the future of digital marketing.\n"
          ]
        }
      ],
      "source": [
        "sentences = split_into_sentences(text_data)\n",
        "sample_sentence = random.choice(sentences).strip()\n",
        "\n",
        "print(\"Sample Sentence:\")\n",
        "print(sample_sentence)"
      ]
    },
    {
      "cell_type": "markdown",
      "metadata": {},
      "source": [
        "After splitting the text into sentences using the split_into_sentences function, this section selects a random sentence from the list of sentences using the **random.choice() function**.\n",
        "\n",
        "The selected sentence is then stripped of any leading or trailing whitespace to ensure that the output is clean. This random sampling can be useful for quick visualization or inspection of the text data to see how the sentences are being split and how they look.\n",
        "\n",
        "The result is printed as a \"**Sample Sentence**\". which can give an idea of the sentence structure within the text."
      ]
    },
    {
      "cell_type": "markdown",
      "metadata": {},
      "source": [
        "##### **Selecting a Random Paragraph**"
      ]
    },
    {
      "cell_type": "code",
      "execution_count": 15,
      "metadata": {
        "id": "hvBm1-OQjccV"
      },
      "outputs": [
        {
          "name": "stdout",
          "output_type": "stream",
          "text": [
            "\n",
            "Sample Paragraph:\n",
            "Meanwhile, email marketing continues to be an effective tool for brands to communicate with customers directly. MailMasters (website: http://www.mailmasters.com) has been at the forefront of this domain. They recently introduced a new tool for analyzing open rates and customer engagement. You can contact their CEO, Alice Peters, at alice.p@mailmasters.com or give her a call at +1-212-555-6677. For sales inquiries, you can also reach out to their team via sales@mailmasters.com.\n"
          ]
        }
      ],
      "source": [
        "paragraphs = split_into_paragraphs(text_data)\n",
        "sample_paragraph = random.choice(paragraphs).strip()\n",
        "\n",
        "print(\"\\nSample Paragraph:\")\n",
        "print(sample_paragraph)"
      ]
    },
    {
      "cell_type": "markdown",
      "metadata": {},
      "source": [
        "Similar to the previous step, this section selects a random paragraph from the text after splitting it into paragraphs using the **split_into_paragraphs function**.\n",
        "\n",
        "By using **random.choice()**, the function retrieves one paragraph randomly, which is then stripped of any leading or trailing whitespace. This allows for a quick examination of the paragraph structure in the text.\n",
        "\n",
        "The paragraph is printed as a \"**Sample Paragraph**\", which can provide insights into how the text is organized at a higher level than individual sentences"
      ]
    },
    {
      "cell_type": "markdown",
      "metadata": {},
      "source": [
        "\n",
        "---"
      ]
    },
    {
      "cell_type": "markdown",
      "metadata": {
        "id": "dL561ykwkmHI"
      },
      "source": [
        "#### **RegEx for Emails**\n",
        "\n",
        "The regular expression used for email extraction:\n",
        "[A-Za-z0-9._%+-]+@[A-Za-z0-9.-]+.[A-Z|a-z]{2,}\n"
      ]
    },
    {
      "cell_type": "code",
      "execution_count": 16,
      "metadata": {
        "id": "IXJ6TvoOkmdZ"
      },
      "outputs": [],
      "source": [
        "def extract_emails(text):\n",
        "\n",
        "    email_pattern = r'\\b[A-Za-z0-9._%+-]+@[A-Za-z0-9.-]+\\.[A-Z|a-z]{2,}\\b'\n",
        "    emails = re.findall(email_pattern, text)\n",
        "\n",
        "    return emails"
      ]
    },
    {
      "cell_type": "code",
      "execution_count": 17,
      "metadata": {
        "id": "46IiZ-SPkrON"
      },
      "outputs": [],
      "source": [
        "with open(file_path, 'r', encoding='utf-8') as file:\n",
        "\n",
        "    text = file.read()"
      ]
    },
    {
      "cell_type": "code",
      "execution_count": 18,
      "metadata": {
        "id": "Jcou1YinksgP"
      },
      "outputs": [],
      "source": [
        "emails = extract_emails(text)"
      ]
    },
    {
      "cell_type": "code",
      "execution_count": 19,
      "metadata": {
        "id": "8_pz_eAoktiz"
      },
      "outputs": [
        {
          "name": "stdout",
          "output_type": "stream",
          "text": [
            "Extracted Emails:\n",
            "info@vrinnovations.com\n",
            "john.martinez@techadvisors.net\n",
            "support@innovateads.co\n",
            "alice.p@mailmasters.com\n",
            "sales@mailmasters.com\n",
            "director@socialbuzz.org\n",
            "support@deepad.ai\n",
            "info@legaleagle.org\n",
            "partners@influenceme.io\n",
            "contact@brandvision.com\n",
            "hello@mobilemarketersinc.com\n",
            "paul.jenkins@cxinnovators.com\n",
            "info@digitalfuture2025.com\n"
          ]
        }
      ],
      "source": [
        "print(\"Extracted Emails:\")\n",
        "for email in emails:\n",
        "    print(email)"
      ]
    },
    {
      "cell_type": "markdown",
      "metadata": {},
      "source": [
        "\n",
        "---"
      ]
    },
    {
      "cell_type": "markdown",
      "metadata": {
        "id": "Xws01fupZVMR"
      },
      "source": [
        "#### **RegEx for URLs**\n",
        "\n",
        "The regular expression used for URL extraction:\n",
        "https?://^\\s,).])\n"
      ]
    },
    {
      "cell_type": "code",
      "execution_count": 20,
      "metadata": {
        "id": "inubEAGZZY0O"
      },
      "outputs": [],
      "source": [
        "def extract_urls(text):\n",
        "\n",
        "    url_pattern = r'https?://[^\\s,)]+(?:/[^\\s,).]*)*'\n",
        "\n",
        "    urls = re.findall(url_pattern, text)\n",
        "    urls = [url.rstrip('.') for url in urls]\n",
        "\n",
        "    return urls"
      ]
    },
    {
      "cell_type": "code",
      "execution_count": 21,
      "metadata": {
        "id": "Vzanv5BwjwGH"
      },
      "outputs": [],
      "source": [
        "urls = extract_urls(text)"
      ]
    },
    {
      "cell_type": "code",
      "execution_count": 22,
      "metadata": {
        "id": "yjVrHjp5jxCt"
      },
      "outputs": [
        {
          "name": "stdout",
          "output_type": "stream",
          "text": [
            "Extracted URLs:\n",
            "https://www.digitalfuture2025.com\n",
            "http://www.techadvisors.net\n",
            "https://www.innovateads.co\n",
            "https://www.innovateads.co/blog\n",
            "http://www.mailmasters.com\n",
            "https://www.socialbuzz.org\n",
            "http://www.deepad.ai\n",
            "http://www.deepad.ai/research\n",
            "https://www.legaleagle.org/marketing-laws\n",
            "http://www.influenceme.io\n",
            "https://www.brandvision.com\n",
            "http://www.mobilemarketersinc.com\n",
            "https://www.cxinnovators.com\n",
            "https://www.cxinnovators.com/blog\n",
            "https://www.digitalfuture2025.com/articles\n"
          ]
        }
      ],
      "source": [
        "print(\"Extracted URLs:\")\n",
        "for url in urls:\n",
        "    print(url)"
      ]
    },
    {
      "cell_type": "markdown",
      "metadata": {},
      "source": [
        "\n",
        "---"
      ]
    },
    {
      "cell_type": "markdown",
      "metadata": {
        "id": "u9-_Wi2EZZJ5"
      },
      "source": [
        "#### **RegEx for Phone Numbers**\n",
        "\n",
        "The regular expression used for phone number extraction:\n",
        "+\\d{1,3}[\\s-]?\\d{1,3}[\\s-]?\\d{3,4}[\\s-]?\\d{4}\n"
      ]
    },
    {
      "cell_type": "code",
      "execution_count": 23,
      "metadata": {
        "id": "khAbQdFnZb5z"
      },
      "outputs": [],
      "source": [
        "def extract_phone_numbers(text):\n",
        "    phone_pattern = r'\\+\\d{1,3}[\\s-]?\\d{1,3}[\\s-]?\\d{3,4}[\\s-]?\\d{4}'\n",
        "    phone_numbers = re.findall(phone_pattern, text)\n",
        "    return phone_numbers"
      ]
    },
    {
      "cell_type": "code",
      "execution_count": 24,
      "metadata": {
        "id": "QYZCF0YKj0Nc"
      },
      "outputs": [],
      "source": [
        "phone_numbers = extract_phone_numbers(text)"
      ]
    },
    {
      "cell_type": "code",
      "execution_count": 25,
      "metadata": {
        "id": "DPwztFn0j1_A"
      },
      "outputs": [
        {
          "name": "stdout",
          "output_type": "stream",
          "text": [
            "Extracted Phone Numbers:\n",
            "+1-800-555-1234\n",
            "+44 20 7946 0958\n",
            "+1-310-555-7890\n",
            "+1-212-555-6677\n",
            "+1-718-555-9988\n",
            "+49 30 1234 5678\n",
            "+33 1 2345 6789\n",
            "+61 3 9876 5432\n",
            "+1-202-555-2244\n",
            "+1-415-555-3344\n",
            "+1-646-555-9988\n",
            "+1-888-555-1234\n"
          ]
        }
      ],
      "source": [
        "print(\"Extracted Phone Numbers:\")\n",
        "for number in phone_numbers:\n",
        "    print(number)"
      ]
    },
    {
      "cell_type": "markdown",
      "metadata": {},
      "source": [
        "\n",
        "---"
      ]
    },
    {
      "cell_type": "markdown",
      "metadata": {
        "id": "z3aL4nC_j5ZW"
      },
      "source": [
        "#### Now, **All** in One definition :)"
      ]
    },
    {
      "cell_type": "code",
      "execution_count": 26,
      "metadata": {
        "id": "5hEttfPwj7qb"
      },
      "outputs": [],
      "source": [
        "def extract_information(text):\n",
        "\n",
        "    email_pattern = r'\\b[A-Za-z0-9._%+-]+@[A-Za-z0-9.-]+\\.[A-Z|a-z]{2,}\\b'\n",
        "    emails = re.findall(email_pattern, text)\n",
        "\n",
        "    url_pattern = r'https?://[^\\s,)]+(?:/[^\\s,).]*)*'\n",
        "    urls = re.findall(url_pattern, text)\n",
        "    urls = [url.rstrip('.') for url in urls]\n",
        "\n",
        "    phone_pattern = r'\\+\\d{1,3}[\\s-]?\\d{1,3}[\\s-]?\\d{3,4}[\\s-]?\\d{4}'\n",
        "    phone_numbers = re.findall(phone_pattern, text)\n",
        "\n",
        "    return emails, urls, phone_numbers"
      ]
    },
    {
      "cell_type": "code",
      "execution_count": 27,
      "metadata": {
        "id": "9HnudY9Wj9Bv"
      },
      "outputs": [],
      "source": [
        "def display_extracted_information(emails, urls, phone_numbers):\n",
        "\n",
        "    print(\"Extracted Emails:\")\n",
        "    for email in emails:\n",
        "        print(email)\n",
        "\n",
        "    print(\"\\nExtracted URLs:\")\n",
        "    for url in urls:\n",
        "        print(url)\n",
        "\n",
        "    print(\"\\nExtracted Phone Numbers:\")\n",
        "    for number in phone_numbers:\n",
        "        print(number)"
      ]
    },
    {
      "cell_type": "code",
      "execution_count": 28,
      "metadata": {
        "id": "byBHDPJxj-zv"
      },
      "outputs": [],
      "source": [
        "emails, urls, phone_numbers = extract_information(text)"
      ]
    },
    {
      "cell_type": "code",
      "execution_count": 29,
      "metadata": {
        "id": "Ank7rLuZkAC9"
      },
      "outputs": [
        {
          "name": "stdout",
          "output_type": "stream",
          "text": [
            "Extracted Emails:\n",
            "info@vrinnovations.com\n",
            "john.martinez@techadvisors.net\n",
            "support@innovateads.co\n",
            "alice.p@mailmasters.com\n",
            "sales@mailmasters.com\n",
            "director@socialbuzz.org\n",
            "support@deepad.ai\n",
            "info@legaleagle.org\n",
            "partners@influenceme.io\n",
            "contact@brandvision.com\n",
            "hello@mobilemarketersinc.com\n",
            "paul.jenkins@cxinnovators.com\n",
            "info@digitalfuture2025.com\n",
            "\n",
            "Extracted URLs:\n",
            "https://www.digitalfuture2025.com\n",
            "http://www.techadvisors.net\n",
            "https://www.innovateads.co\n",
            "https://www.innovateads.co/blog\n",
            "http://www.mailmasters.com\n",
            "https://www.socialbuzz.org\n",
            "http://www.deepad.ai\n",
            "http://www.deepad.ai/research\n",
            "https://www.legaleagle.org/marketing-laws\n",
            "http://www.influenceme.io\n",
            "https://www.brandvision.com\n",
            "http://www.mobilemarketersinc.com\n",
            "https://www.cxinnovators.com\n",
            "https://www.cxinnovators.com/blog\n",
            "https://www.digitalfuture2025.com/articles\n",
            "\n",
            "Extracted Phone Numbers:\n",
            "+1-800-555-1234\n",
            "+44 20 7946 0958\n",
            "+1-310-555-7890\n",
            "+1-212-555-6677\n",
            "+1-718-555-9988\n",
            "+49 30 1234 5678\n",
            "+33 1 2345 6789\n",
            "+61 3 9876 5432\n",
            "+1-202-555-2244\n",
            "+1-415-555-3344\n",
            "+1-646-555-9988\n",
            "+1-888-555-1234\n"
          ]
        }
      ],
      "source": [
        "display_extracted_information(emails, urls, phone_numbers)"
      ]
    },
    {
      "cell_type": "markdown",
      "metadata": {},
      "source": [
        "\n",
        "---"
      ]
    },
    {
      "cell_type": "markdown",
      "metadata": {
        "id": "oHyVQm2MZcLm"
      },
      "source": [
        "### Part 1.3: **Advantages and Disadvantages of Using RegEx in NER**<a name=\"advantage_disadv\"></a>\n"
      ]
    },
    {
      "cell_type": "markdown",
      "metadata": {},
      "source": [
        "#### **Advantages:**\n",
        "- **Simplicity and Speed:** Useful for well-defined formats.\n",
        "- **Rule-Based Control:** Complete control over patterns to match.\n",
        "- **No Training Data Needed:** Immediate extraction without training.\n",
        "- **Language and Domain Independence:** Works across different languages.\n",
        "\n",
        "---\n"
      ]
    },
    {
      "cell_type": "markdown",
      "metadata": {},
      "source": [
        "#### **Disadvantages:**\n",
        "- **Limited Flexibility and Scalability:** Difficulty in handling variations.\n",
        "- **Ambiguity Handling:** Inability to resolve contextual ambiguity.\n",
        "- **Brittle and Hard to Maintain:** Patterns may break with format changes.\n",
        "- **Poor Handling of Complex Entities:** Difficulties in recognizing complex, non-standardized entities.\n",
        "\n",
        "---"
      ]
    },
    {
      "cell_type": "markdown",
      "metadata": {
        "id": "ZxKYy3-RnxgB"
      },
      "source": [
        "### Part 2.1: **Rule-Based & ML-Based Tokenizations** <a name=\"Tokenizer\"></a>"
      ]
    },
    {
      "cell_type": "markdown",
      "metadata": {},
      "source": [
        "#### **Tokenization**"
      ]
    },
    {
      "cell_type": "markdown",
      "metadata": {},
      "source": [
        "In the field of NLP, tokenization is the initial step in processing text, where a large body of text is split into smaller, manageable units known as tokens. These tokens can represent words, subwords, punctuations marks, or even sentences, depending on the task. Among various tokenization methods, **Rule-Based tokenization** employs a set of predefined rules to determine the boundaries of tokens within a text. It is particularly suitable for cases where specific language patterns and structures are predictable, offering precision and control in tokenizing text. "
      ]
    },
    {
      "cell_type": "markdown",
      "metadata": {},
      "source": [
        "#### **What is Rule-Based Tokenization?**"
      ]
    },
    {
      "cell_type": "markdown",
      "metadata": {},
      "source": [
        "Rule-Based tokenization is a method of segmenting text into tokens using language-specific rules. These rules can involve splitting text at whitespaces, handling punctuation marks, managing contractions, and identifying boundaries between different linguistic units. The primary goal is to accurately define how words and symbols are seperated while considering the nuances of grammer and language structure. Unlike statistical or machine learning-based approaches, rule-based tokenizatoin does not require training data but instead relies on manually craftedd rules. "
      ]
    },
    {
      "cell_type": "markdown",
      "metadata": {},
      "source": [
        "##### **Techniques in Rule-Based Tokenization**"
      ]
    },
    {
      "cell_type": "markdown",
      "metadata": {},
      "source": [
        "Rule-Based tokenization uses various tech to handle the complexities of natural language, including:\n",
        "\n",
        "- **Whitespace Tokenization:** The simplest form of rule-based tokenization splits text whenever a space is encountered. This approach is effective for languages like English and Farsi, where words are seperated by spaces. However, it may be insufficient for language that do not use spaces, such as Chinese of Japanses. \n",
        "\n",
        "- **Punctuation Handling:** Effective tokenizer often need to distinguish between punctuation that seperates sentences and that which is part of abbreviationis or contractions. For instance, a rule can be set to split text at periods, exclamation marks, or questoin marks, while retaining periods in abbreviations like**Dr.** or **e.g.,**.\n",
        "\n",
        "- **Regular Expressions (RegEx):** RegEx provide a powerful mechanism for pattern matching, allowing the creation of sophosticated rules. RegEx can be used to identify patterns such as dates, email addresses, phone numbers, and other entities that require specific handling during tokenization. \n",
        "\n",
        "- **Word Boundaries Identification:** Identifying word boundaries is essential, especially in languages with complex morphology. For example, a rule can recognize transitions between uppercase and lowercase characters in camelcase words, or detect boundaries between Latin and non-Latin scripts. \n",
        "\n",
        "- **Special Character Processing:** Tokenizers may need rules to manege special characters like hashtags, mentions, or URLs, particularly when processing social media text. For instance, **@username** or **#hashtags** can be treated as single tokens to preserve their semantic meaning. "
      ]
    },
    {
      "cell_type": "markdown",
      "metadata": {},
      "source": [
        "##### **Advantages of Rule-Based Tokenization**"
      ]
    },
    {
      "cell_type": "markdown",
      "metadata": {},
      "source": [
        "- **Simplicity and Transparency:** Rule-based tokenization is straightforward to understand and implement, especially for well-defined languages. It allows developers to easily see how text is being processed and adjusted.\n",
        "\n",
        "- **Customizability:** This approach is highly customizable, enabling the creation of rules tailored to the specific requirements of a language or domain. For instance, a rule-based tokenizer can be adapted to handle the unique structure of legal texts or medical records.\n",
        "\n",
        "- **Efficiency for Simple Text:** Rule-based methods are often computationally efficient, as they do not require model training and can be directly applied to text based on the defined rules."
      ]
    },
    {
      "cell_type": "markdown",
      "metadata": {},
      "source": [
        "#####  **Challenges of Rule-Based Tokenization**"
      ]
    },
    {
      "cell_type": "markdown",
      "metadata": {},
      "source": [
        "- **Ambiguity:** One of the primary challenges of rule-based tokenization is handling ambiguous cases. For example, a period could signify the end of a sentence or be part of an abbreviation. Distinguishing between these uses often requires additional context that is difficult to capture with static rules.\n",
        "\n",
        "- **Scalability:** As text complexity increases, the number of required rules grows, making the system harder to maintain and extend. This can become problematic when handling diverse input types or multilingual data.\n",
        "\n",
        "- **Brittleness:** Rule-based systems can be brittle, breaking when encountering unexpected text formats or new language phenomena that are not covered by existing rules. Frequent updates may be needed to address these new cases.\n",
        "\n",
        "- **Language Dependency:** The rules must be tailored to each language, making it challenging to adapt a tokenizer designed for one language to another with different grammar, punctuation, or script."
      ]
    },
    {
      "cell_type": "markdown",
      "metadata": {},
      "source": [
        "#### **What is Machine Learning-Based Tokenization?**"
      ]
    },
    {
      "cell_type": "markdown",
      "metadata": {},
      "source": [
        "Machine learning-based tokenization uses statistical models and algorithms to determine the most appropriate way to split text into tokens. Unlike rule-based tokenization, which relies on predefined patterns, this approach learns from a training dataset to make tokenization decisions. The learning process enables the model to generalize from the examples it has seen and handle variations in text that may not be explicitly covered by rules. Popular methods include supervised learning models, probabilistic models, and neural network-based tokenization techniques."
      ]
    },
    {
      "cell_type": "markdown",
      "metadata": {},
      "source": [
        "##### **Techniques in Machine Learning-Based Tokenization**"
      ]
    },
    {
      "cell_type": "markdown",
      "metadata": {},
      "source": [
        "Machine learning-based tokenization encompasses a variety of techniques, ranging from simple statistical models to advanced neural network architectures:\n",
        "\n",
        "- **Supervised Learning Models:**\n",
        "\n",
        "- Supervised models require a labeled training dataset where text is annotated with the correct token boundaries. The model learns to predict these boundaries for new, unseen text.\n",
        "\n",
        "\n",
        "- Common models include Conditional Random Fields (CRFs), which are effective in identifying token boundaries based on features such as word patterns, character n-grams, or contextual information.\n",
        "\n",
        "\n",
        "- **Probabilistic Models:**\n",
        "\n",
        "- Probabilistic approaches like Hidden Markov Models (HMMs) learn the likelihood of transitions between characters or words, making them effective for segmenting languages where word boundaries are not explicit (e.g., Chinese, Thai).\n",
        "\n",
        "\n",
        "- These models predict the sequence of labels (e.g., \"start of word\" or \"inside word\") that best matches the input text.\n",
        "\n",
        "\n",
        "- **Neural Network-Based Tokenization:**\n",
        "\n",
        "- Recent advances use deep learning models such as Recurrent Neural Networks (RNNs), Long Short-Term Memory (LSTM) networks, and Transformers for tokenization.\n",
        "\n",
        "\n",
        "- Transformers, like those used in models such as BERT (Bidirectional Encoder Representations from Transformers), perform subword tokenization using methods like WordPiece or Byte-Pair Encoding (BPE).\n",
        "\n",
        "\n",
        "- These models tokenize text by learning to split words into smaller subwords or characters, thus handling rare words and out-of-vocabulary terms more effectively.\n",
        "\n",
        "\n",
        "- **Unsupervised Tokenization:**\n",
        "\n",
        "- In cases where labeled data is scarce, unsupervised methods such as BPE and SentencePiece break down text based on frequency statistics.\n",
        "\n",
        "\n",
        "- These methods iteratively merge the most frequent character pairs or subword units, creating a vocabulary that captures common word fragments"
      ]
    },
    {
      "cell_type": "markdown",
      "metadata": {},
      "source": [
        "##### **Advantages of Machine Learning-Based Tokenization**"
      ]
    },
    {
      "cell_type": "markdown",
      "metadata": {},
      "source": [
        "- **Flexibility and Adaptability:** Machine learning models can adapt to the text patterns of different languages and domains without the need for extensive manual rule crafting. This allows the model to generalize from training data and handle diverse text forms, such as slang, idioms, and new vocabulary.\n",
        "\n",
        "- **Handling Ambiguous Cases:** By learning from a large corpus, these models are better equipped to resolve ambiguous cases in tokenization, such as distinguishing between abbreviations and sentence boundaries.\n",
        "\n",
        "- **Robustness with Subwords:** Methods like BPE and WordPiece help in managing rare words and spelling variations by breaking words into smaller components. This is especially valuable for languages with rich morphology and compound words.\n",
        "\n",
        "- **Scalability:** Machine learning-based methods are scalable, making them suitable for large-scale applications like search engines, digital assistants, and large language models. They can process vast amounts of text and adjust their tokenization strategies as new data is introduced."
      ]
    },
    {
      "cell_type": "markdown",
      "metadata": {},
      "source": [
        "##### **Challenges of Machine Learning-Based Tokenization**"
      ]
    },
    {
      "cell_type": "markdown",
      "metadata": {},
      "source": [
        "- **Data Dependency:** These models require a significant amount of labeled data for training, especially when using supervised learning approaches. Acquiring and annotating this data can be costly and time-consuming.\n",
        "\n",
        "- **Computational Resources:** Training machine learning models for tokenization, particularly deep learning models like Transformers, can be resource-intensive, requiring substantial computational power and memory.\n",
        "\n",
        "- **Complexity:** Implementing and fine-tuning machine learning models for tokenization is more complex than designing rule-based systems. This complexity may not always be justified for simpler tokenization tasks where rules can suffice.\n",
        "\n",
        "- **Interpretability:** Machine learning models, especially neural networks, often operate as \"black boxes,\" making it difficult to understand how tokenization decisions are made. This lack of transparency can be a drawback when precise control over tokenization is required."
      ]
    },
    {
      "cell_type": "markdown",
      "metadata": {},
      "source": [
        "#### **Comparison of Rule-Based & ML-Based Tokenization**"
      ]
    },
    {
      "cell_type": "markdown",
      "metadata": {},
      "source": [
        "Rule-based and machine learning-based tokenization are two fundamentally different approaches to breaking down text into tokens in Natural Language Processing (NLP). Each method has its own strengths and weaknesses, which make them suitable for different types of text processing tasks.\n",
        "\n",
        "\n",
        "Rule-based tokenization relies on predefined patterns and rules to split text. These rules might involve splitting text at whitespaces, handling punctuation, or using regular expressions to match specific patterns. This method is highly transparent and interpretable, allowing developers to understand precisely how tokenization decisions are being made. The simplicity of rule-based tokenization makes it easy to implement and maintain for specific, well-defined text forms, such as legal or medical documents, where language patterns are predictable. Rule-based methods excel in situations where precision is critical, such as tokenizing formal text where the structure is consistent.\n",
        "\n",
        "\n",
        "However, rule-based tokenization struggles with ambiguity and scalability. For instance, it may have difficulty distinguishing between periods used as sentence terminators versus those in abbreviations without additional context. As the complexity of language increases, so too does the number of rules needed, making the system harder to maintain. Additionally, adapting rule-based tokenization for different languages or domains requires extensive manual adjustments, limiting its flexibility.\n",
        "\n",
        "\n",
        "Machine learning-based tokenization, on the other hand, uses statistical models or neural networks to learn tokenization patterns directly from data. This approach does not rely on manually crafted rules but instead leverages training data to understand how text is typically segmented. It can adapt to new words, slang, and diverse sentence structures without requiring manual intervention. Methods like subword tokenization, as seen in models like BERT with WordPiece or Byte-Pair Encoding (BPE), are particularly effective in handling out-of-vocabulary words and rare terms, making them suitable for a wide range of applications, including language translation and large-scale NLP systems.\n",
        "\n",
        "\n",
        "This adaptability allows machine learning-based tokenizers to handle ambiguity more effectively than rule-based approaches. For example, they can learn from context to distinguish between abbreviations and sentence boundaries. Additionally, they scale well for large and varied corpora, making them ideal for use in search engines, chatbots, and other applications that process diverse user inputs.\n",
        "\n",
        "\n",
        "However, machine learning-based tokenization comes with its own challenges. It requires a large amount of labeled training data, which can be difficult and costly to obtain. The models themselves can be complex to train, tune, and implement, often necessitating significant computational resources, especially for deep learning-based tokenizers. Moreover, these models can act as \"black boxes,\" making it difficult to understand how certain tokenization decisions are made, which can be a drawback when transparency is required.\n",
        "\n",
        "\n",
        "In terms of application, rule-based tokenization is best suited for scenarios where language is consistent and formal, and where there is a need for simple, low-complexity solutions. It is a preferred choice when computational resources are limited or when interpretability is a priority. On the other hand, machine learning-based tokenization is the method of choice for modern NLP tasks, especially when dealing with diverse and unpredictable language inputs, large datasets, and applications where adaptability is crucial. This makes it particularly valuable for cutting-edge NLP models and dynamic environments where the language used is constantly evolving.\n",
        "\n",
        "\n",
        "Ultimately, the decision between using rule-based or machine learning-based tokenization depends on the specific requirements of a project. While rule-based tokenization offers precision and simplicity, machine learning-based tokenization provides the flexibility and robustness needed for more complex and large-scale applications. In many cases, a hybrid approach that combines the control of rules with the adaptability of machine learning can offer the best of both worlds, leading to more accurate and reliable tokenization in diverse contexts."
      ]
    },
    {
      "cell_type": "markdown",
      "metadata": {},
      "source": [
        "#### **When to Use Rule-Based Tokenization**"
      ]
    },
    {
      "cell_type": "markdown",
      "metadata": {},
      "source": [
        "Rule-based tokenization is advantageous in situations where the language patterns are well-defined, predictable, and relatively simple. Here are specific conditions where rule-based tokenization is preferable:\n",
        "\n",
        "- **Highly Structured or Formal Texts:**\n",
        "\n",
        "Ideal for processing legal documents, medical records, or technical specifications, where the language is formal and follows a consistent structure. Rules can be tailored to handle specific patterns like citations, legal terminologies, or scientific abbreviations.\n",
        "\n",
        "\n",
        "For instance, if tokenizing legal clauses or medical terms, the structure is often predictable, making it easier to define rules that accurately segment the text.\n",
        "\n",
        "\n",
        "- **Limited Resources:**\n",
        "\n",
        "\n",
        "\n",
        "If computational power or memory is limited, rule-based tokenization is a better choice because it is less resource-intensive than machine learning models. It does not require the computational overhead of training and inference associated with ML-based tokenizers.\n",
        "\n",
        "\n",
        "For example, lightweight applications running on devices with minimal processing power, like embedded systems or simple web-based applications, benefit from the simplicity of rule-based tokenization.\n",
        "\n",
        "\n",
        "- **Need for Transparency and Interpretability:**\n",
        "\n",
        "When it is important to understand and explain how text is being tokenized, rule-based methods are preferable. They offer complete transparency because the rules are explicitly defined.\n",
        "\n",
        "\n",
        "This is useful in regulated industries or environments where understanding the processing logic is crucial for compliance, such as in healthcare or finance.\n",
        "\n",
        "\n",
        "- **Consistent Input Text:**\n",
        "\n",
        "\n",
        "If the text being processed is relatively uniform (e.g., fixed-format input like forms, surveys, or controlled user inputs), rule-based methods work effectively without needing complex adjustments.\n",
        "\n",
        "\n",
        "For example, in a chatbot that only receives inputs in a formal questionnaire style, rule-based tokenization can be set up quickly and reliably."
      ]
    },
    {
      "cell_type": "markdown",
      "metadata": {},
      "source": [
        "#### **When to Use ML-Based Tokenization**"
      ]
    },
    {
      "cell_type": "markdown",
      "metadata": {},
      "source": [
        "Machine learning-based tokenization shines in scenarios where language is diverse, constantly evolving, and harder to define with static rules. Here are conditions where machine learning-based tokenization is more suitable:\n",
        "\n",
        "- **Handling Complex and Diverse Text:**\n",
        "\n",
        "Machine learning-based tokenization is ideal for processing text from social media, online forums, and other user-generated content where the language can be informal, unstructured, and contains a variety of slang, abbreviations, and new vocabulary.\n",
        "\n",
        "\n",
        "For example, a system that needs to analyze Twitter posts or chat logs benefits from ML-based tokenization's ability to adapt to the diversity in language use, including emojis, hashtags, and colloquial terms.\n",
        "\n",
        "\n",
        "- **Large and Varied Datasets:**\n",
        "\n",
        "When dealing with large corpora that include a wide range of topics, domains, or multiple languages, machine learning-based tokenization is better suited. It can learn from the variability in the training data and generalize to new inputs.\n",
        "\n",
        "\n",
        "This is crucial for modern NLP applications like language models (e.g., GPT, BERT) that need to process vast amounts of text from different sources.\n",
        "\n",
        "\n",
        "- **Ambiguous or Context-Dependent Text:**\n",
        "\n",
        "If the text has ambiguities that require context to resolve (e.g., distinguishing between abbreviations and sentence boundaries or understanding the role of punctuation in different contexts), machine learning-based methods excel. They learn these nuances through training.\n",
        "For instance, determining whether “U.S.” is an abbreviation or a sentence end is more effectively handled by a model that has learned from diverse examples.\n",
        "\n",
        "\n",
        "- **Need for Scalability and Continuous Improvement:**\n",
        "\n",
        "When the goal is to build a system that can scale to millions of documents and adapt over time as new data is introduced, machine learning-based tokenization is advantageous. Once trained, these models can be applied to new data without needing to define additional rules manually.\n",
        "\n",
        "\n",
        "This is especially important in applications like search engines or virtual assistants, where the text being processed constantly evolves and adapts to user behavior.\n",
        "\n",
        "\n",
        "- **Handling Morphologically Rich Languages:**\n",
        "\n",
        "For languages with complex word formation rules (e.g., Finnish, Turkish, or agglutinative languages), machine learning models are often better equipped to manage variations in word forms by breaking words into subwords or character sequences.\n",
        "\n",
        "\n",
        "Subword tokenization methods like Byte-Pair Encoding (BPE) or WordPiece allow models to efficiently tokenize words that have never been seen before by decomposing them into familiar subwords."
      ]
    },
    {
      "cell_type": "markdown",
      "metadata": {},
      "source": [
        "### Part 2.2: **Whitespace Tokenization** <a name=\"Whitespace\"></a>"
      ]
    },
    {
      "cell_type": "code",
      "execution_count": 7,
      "metadata": {},
      "outputs": [
        {
          "name": "stdout",
          "output_type": "stream",
          "text": [
            "Requirement already satisfied: tokenizers in c:\\users\\lenovo\\anaconda3\\lib\\site-packages (0.20.1)\n",
            "Requirement already satisfied: huggingface-hub<1.0,>=0.16.4 in c:\\users\\lenovo\\anaconda3\\lib\\site-packages (from tokenizers) (0.25.2)\n",
            "Requirement already satisfied: filelock in c:\\users\\lenovo\\anaconda3\\lib\\site-packages (from huggingface-hub<1.0,>=0.16.4->tokenizers) (3.13.1)\n",
            "Requirement already satisfied: fsspec>=2023.5.0 in c:\\users\\lenovo\\anaconda3\\lib\\site-packages (from huggingface-hub<1.0,>=0.16.4->tokenizers) (2023.10.0)\n",
            "Requirement already satisfied: packaging>=20.9 in c:\\users\\lenovo\\anaconda3\\lib\\site-packages (from huggingface-hub<1.0,>=0.16.4->tokenizers) (23.1)\n",
            "Requirement already satisfied: pyyaml>=5.1 in c:\\users\\lenovo\\anaconda3\\lib\\site-packages (from huggingface-hub<1.0,>=0.16.4->tokenizers) (6.0.1)\n",
            "Requirement already satisfied: requests in c:\\users\\lenovo\\anaconda3\\lib\\site-packages (from huggingface-hub<1.0,>=0.16.4->tokenizers) (2.31.0)\n",
            "Requirement already satisfied: tqdm>=4.42.1 in c:\\users\\lenovo\\anaconda3\\lib\\site-packages (from huggingface-hub<1.0,>=0.16.4->tokenizers) (4.65.0)\n",
            "Requirement already satisfied: typing-extensions>=3.7.4.3 in c:\\users\\lenovo\\anaconda3\\lib\\site-packages (from huggingface-hub<1.0,>=0.16.4->tokenizers) (4.12.2)\n",
            "Requirement already satisfied: colorama in c:\\users\\lenovo\\anaconda3\\lib\\site-packages (from tqdm>=4.42.1->huggingface-hub<1.0,>=0.16.4->tokenizers) (0.4.6)\n",
            "Requirement already satisfied: charset-normalizer<4,>=2 in c:\\users\\lenovo\\anaconda3\\lib\\site-packages (from requests->huggingface-hub<1.0,>=0.16.4->tokenizers) (2.0.4)\n",
            "Requirement already satisfied: idna<4,>=2.5 in c:\\users\\lenovo\\anaconda3\\lib\\site-packages (from requests->huggingface-hub<1.0,>=0.16.4->tokenizers) (3.4)\n",
            "Requirement already satisfied: urllib3<3,>=1.21.1 in c:\\users\\lenovo\\anaconda3\\lib\\site-packages (from requests->huggingface-hub<1.0,>=0.16.4->tokenizers) (2.0.7)\n",
            "Requirement already satisfied: certifi>=2017.4.17 in c:\\users\\lenovo\\anaconda3\\lib\\site-packages (from requests->huggingface-hub<1.0,>=0.16.4->tokenizers) (2024.7.4)\n",
            "Note: you may need to restart the kernel to use updated packages.\n"
          ]
        }
      ],
      "source": [
        "pip install tokenizers"
      ]
    },
    {
      "cell_type": "markdown",
      "metadata": {},
      "source": [
        "#### **Import necessart libraries**"
      ]
    },
    {
      "cell_type": "code",
      "execution_count": 42,
      "metadata": {
        "id": "qySerCxwn9Xj"
      },
      "outputs": [],
      "source": [
        "import json\n",
        "\n",
        "from tokenizers import Tokenizer\n",
        "from tokenizers.models import WordLevel\n",
        "from tokenizers.pre_tokenizers import Whitespace\n",
        "from tokenizers.trainers import WordLevelTrainer\n",
        "\n",
        "from tokenizers import BertWordPieceTokenizer\n",
        "from collections import Counter"
      ]
    },
    {
      "cell_type": "markdown",
      "metadata": {},
      "source": [
        "#### **Step 1:** Create a tokenizer with a WordLevel model and configure it with a whitespace pre-tokenizer"
      ]
    },
    {
      "cell_type": "code",
      "execution_count": 43,
      "metadata": {},
      "outputs": [],
      "source": [
        "tokenizer = Tokenizer(WordLevel(unk_token=\"[UNK]\"))"
      ]
    },
    {
      "cell_type": "markdown",
      "metadata": {},
      "source": [
        "#### **Step 2:** Set up the pre-tokenizer to split input text based on whitespace"
      ]
    },
    {
      "cell_type": "code",
      "execution_count": 44,
      "metadata": {},
      "outputs": [],
      "source": [
        "tokenizer.pre_tokenizer = Whitespace()"
      ]
    },
    {
      "cell_type": "markdown",
      "metadata": {},
      "source": [
        "#### **Step 3:** Define the trainer with special tokens"
      ]
    },
    {
      "cell_type": "code",
      "execution_count": 45,
      "metadata": {},
      "outputs": [],
      "source": [
        "trainer = WordLevelTrainer(special_tokens=[\"[UNK]\", \"[CLS]\", \"[SEP]\", \"[PAD]\", \"[MASK]\"])"
      ]
    },
    {
      "cell_type": "markdown",
      "metadata": {},
      "source": [
        "#### **Step 5:** Train the tokenizer on the specified dataset (ner.txt)"
      ]
    },
    {
      "cell_type": "code",
      "execution_count": 46,
      "metadata": {},
      "outputs": [],
      "source": [
        "tokenizer.train([file_path], trainer)"
      ]
    },
    {
      "cell_type": "markdown",
      "metadata": {},
      "source": [
        "#### **Step 6:** Read the text from the file and tokenize each line"
      ]
    },
    {
      "cell_type": "code",
      "execution_count": 47,
      "metadata": {},
      "outputs": [],
      "source": [
        "tokenized_data = []\n",
        "with open(file_path, 'r', encoding='utf-8') as file:\n",
        "    for line in file:\n",
        "        line = line.strip()\n",
        "        if line:  \n",
        "            output = tokenizer.encode(line)\n",
        "            tokenized_data.append({\n",
        "                \"original_text\": line,\n",
        "                \"tokens\": output.tokens,\n",
        "                \"token_ids\": output.ids\n",
        "            })"
      ]
    },
    {
      "cell_type": "markdown",
      "metadata": {},
      "source": [
        "#### **Step 7:** Defile output json path & Save the tokenized data as a JSON file"
      ]
    },
    {
      "cell_type": "code",
      "execution_count": 48,
      "metadata": {},
      "outputs": [],
      "source": [
        "output_json_path = \"D:\\\\UT\\\\Courses\\\\NLP\\\\2024-Fall\\\\NLP_Dr_Faili\\\\HWs\\\\HW1\\\\HDA\\\\Data\\\\Data_Out\\\\Q1_P2_2_whitespace_tokenized_data.json\""
      ]
    },
    {
      "cell_type": "code",
      "execution_count": 49,
      "metadata": {},
      "outputs": [],
      "source": [
        "with open(output_json_path, 'w', encoding='utf-8') as json_file:\n",
        "    json.dump(tokenized_data, json_file, ensure_ascii=False, indent=4)"
      ]
    },
    {
      "cell_type": "markdown",
      "metadata": {},
      "source": [
        "#### **Step 8:** Display a portion of the results for verification & Show the first 3 entries to verify the tokenizatoin \n"
      ]
    },
    {
      "cell_type": "code",
      "execution_count": 50,
      "metadata": {},
      "outputs": [
        {
          "name": "stdout",
          "output_type": "stream",
          "text": [
            "Original Text: As we move further into the digital age, the landscape of marketing is evolving at a pace faster than ever before. Businesses are harnessing the power of artificial intelligence, data analytics, and personalized advertising to reach their target audiences. If you wish to learn more about the latest trends, visit https://www.digitalfuture2025.com.\n",
            "Tokens: ['As', 'we', 'move', 'further', 'into', 'the', 'digital', 'age', ',', 'the', 'landscape', 'of', 'marketing', 'is', 'evolving', 'at', 'a', 'pace', 'faster', 'than', 'ever', 'before', '.', 'Businesses', 'are', 'harnessing', 'the', 'power', 'of', 'artificial', 'intelligence', ',', 'data', 'analytics', ',', 'and', 'personalized', 'advertising', 'to', 'reach', 'their', 'target', 'audiences', '.', 'If', 'you', 'wish', 'to', 'learn', 'more', 'about', 'the', 'latest', 'trends', ',', 'visit', 'https', '://', 'www', '.', 'digitalfuture2025', '.', 'com', '.']\n",
            "Token IDs: [175, 138, 319, 274, 297, 9, 33, 213, 6, 9, 305, 12, 19, 35, 110, 8, 23, 334, 267, 134, 109, 67, 5, 177, 25, 115, 9, 342, 12, 221, 295, 6, 44, 217, 6, 43, 82, 53, 10, 46, 13, 393, 224, 5, 96, 48, 417, 10, 78, 21, 52, 9, 77, 400, 6, 87, 26, 11, 14, 5, 73, 5, 15, 5]\n",
            "--------------------------------------------------\n",
            "Original Text: One significant change is the integration of augmented reality (AR) in advertising campaigns. Brands like VRInnovations (contact: info@vrinnovations.com) are leading the charge, offering immersive experiences that let users \"try\" products virtually before making a purchase. This level of engagement is a game-changer. For collaborations, reach out to their team at +1-800-555-1234.\n",
            "Tokens: ['One', 'significant', 'change', 'is', 'the', 'integration', 'of', 'augmented', 'reality', '(', 'AR', ')', 'in', 'advertising', 'campaigns', '.', 'Brands', 'like', 'VRInnovations', '(', 'contact', ':', 'info', '@', 'vrinnovations', '.', 'com', ')', 'are', 'leading', 'the', 'charge', ',', 'offering', 'immersive', 'experiences', 'that', 'let', 'users', '\"', 'try', '\"', 'products', 'virtually', 'before', 'making', 'a', 'purchase', '.', 'This', 'level', 'of', 'engagement', 'is', 'a', 'game', '-', 'changer', '.', 'For', 'collaborations', ',', 'reach', 'out', 'to', 'their', 'team', 'at', '+', '1', '-', '800', '-', '555', '-', '1234', '.']\n",
            "Token IDs: [196, 381, 234, 35, 9, 294, 12, 225, 358, 17, 171, 27, 34, 53, 69, 5, 176, 36, 206, 17, 38, 20, 75, 16, 412, 5, 15, 27, 25, 306, 9, 236, 6, 326, 286, 265, 47, 307, 407, 61, 401, 61, 347, 411, 67, 313, 23, 352, 5, 204, 308, 12, 57, 35, 23, 275, 7, 235, 5, 30, 239, 6, 46, 81, 10, 13, 60, 8, 18, 24, 7, 166, 7, 28, 7, 62, 5]\n",
            "--------------------------------------------------\n",
            "Original Text: In a report published by TechAdvisors (visit them at http://www.techadvisors.net), experts highlighted the rise of programmatic advertising as the next big thing. \"By 2025, we expect 90% of online ads to be placed using automated algorithms,\" says John Martinez, chief data scientist at TechAdvisors. You can contact him directly at john.martinez@techadvisors.net or at his office number +44 20 7946 0958 for more information on their latest research.\n",
            "Tokens: ['In', 'a', 'report', 'published', 'by', 'TechAdvisors', '(', 'visit', 'them', 'at', 'http', '://', 'www', '.', 'techadvisors', '.', 'net', '),', 'experts', 'highlighted', 'the', 'rise', 'of', 'programmatic', 'advertising', 'as', 'the', 'next', 'big', 'thing', '.', '\"', 'By', '2025', ',', 'we', 'expect', '90', '%', 'of', 'online', 'ads', 'to', 'be', 'placed', 'using', 'automated', 'algorithms', ',\"', 'says', 'John', 'Martinez', ',', 'chief', 'data', 'scientist', 'at', 'TechAdvisors', '.', 'You', 'can', 'contact', 'him', 'directly', 'at', 'john', '.', 'martinez', '@', 'techadvisors', '.', 'net', 'or', 'at', 'his', 'office', 'number', '+', '44', '20', '7946', '0958', 'for', 'more', 'information', 'on', 'their', 'latest', 'research', '.']\n",
            "Token IDs: [63, 23, 365, 351, 68, 97, 17, 87, 86, 8, 41, 11, 14, 5, 133, 5, 128, 49, 111, 282, 9, 368, 12, 348, 53, 222, 9, 321, 232, 395, 5, 61, 178, 144, 6, 138, 263, 168, 89, 12, 329, 212, 10, 66, 340, 408, 227, 215, 140, 371, 188, 193, 6, 237, 44, 373, 8, 97, 5, 51, 37, 38, 283, 106, 8, 301, 5, 315, 16, 133, 5, 128, 22, 8, 284, 80, 325, 18, 154, 142, 165, 141, 40, 21, 120, 45, 13, 77, 85, 5]\n",
            "--------------------------------------------------\n",
            "\n",
            "Tokenized data has been saved to: D:\\UT\\Courses\\NLP\\2024-Fall\\NLP_Dr_Faili\\HWs\\HW1\\HDA\\Data\\Data_Out\\Q1_P2_2_whitespace_tokenized_data.json\n"
          ]
        }
      ],
      "source": [
        "for entry in tokenized_data[:3]:\n",
        "    print(\"Original Text:\", entry[\"original_text\"])\n",
        "    print(\"Tokens:\", entry[\"tokens\"])\n",
        "    print(\"Token IDs:\", entry[\"token_ids\"])\n",
        "    print(\"-\" * 50)\n",
        "\n",
        "print(f\"\\nTokenized data has been saved to: {output_json_path}\")"
      ]
    },
    {
      "cell_type": "markdown",
      "metadata": {},
      "source": [
        "#### **Disadvantages of Using Whitespace tokenizatoin**"
      ]
    },
    {
      "cell_type": "markdown",
      "metadata": {},
      "source": [
        "- **Lack of Contextual Understanding**\n",
        "Whitespace tokenization purely relies on spaces to delineate tokens. This approach does not account for the linguistic context in which words appear. For example:\n",
        "\n",
        "**Polysemy and Homonymy:** Words that have multiple meanings (e.g., \"bark\" as in a tree or a dog's sound) are treated the same regardless of their context, potentially leading to semantic confusion in downstream tasks like sentiment analysis or machine translation.\n",
        "\n",
        "\n",
        "**Compound Words:** In languages like German or Chinese, words can be combined to form compound words or phrases that carry unique meanings (e.g., \"Fahrvergnügen\" in German). Whitespace tokenization fails to recognize these as single entities.\n",
        "\n",
        "\n",
        "- **Handling of Punctuation and Special Characters**\n",
        "\n",
        "Whitespace tokenization does not distinguish between words and punctuation, treating punctuation marks as separate tokens. This can lead to several issues:\n",
        "\n",
        "**Tokenization Artifacts:** Sentences like \"Hello, world!\" would yield the tokens [\"Hello,\", \"world!\"], which may not reflect the intended meanings or relationships between tokens. In NLP tasks requiring semantic analysis, this may introduce noise.\n",
        "\n",
        "\n",
        "**Inconsistent Tokenization:** Variations in punctuation use can lead to inconsistent tokenization results, which can negatively impact model training and performance.\n",
        "\n",
        "\n",
        "- **Inability to Handle Variations in Input**\n",
        "\n",
        "Whitespace tokenization is sensitive to variations in input text:\n",
        "\n",
        "\n",
        "**Case Sensitivity:** The tokenizer may treat \"Apple\" and \"apple\" as distinct tokens unless preprocessing is applied. This inconsistency can affect tasks such as text classification or entity recognition.\n",
        "\n",
        "\n",
        "**Leading/Trailing Spaces:** If input text has irregular spacing, such as double spaces, leading spaces, or trailing spaces, the tokenizer can produce unexpected results or fail to tokenize the text correctly.\n",
        "\n",
        "\n",
        "- **Limited Ability to Handle Multi-Word Expressions**\n",
        "\n",
        "Natural languages often include idiomatic expressions or multi-word phrases (e.g., \"kick the bucket\"). Whitespace tokenization does not recognize these as single tokens:\n",
        "\n",
        "\n",
        "**Loss of Semantic Integrity:** Tokenizing phrases like \"kick the bucket\" into [\"kick\", \"the\", \"bucket\"] can lead to a loss of the phrase's idiomatic meaning, adversely affecting understanding in tasks such as sentiment analysis or conversational agents.\n",
        "\n",
        "\n",
        "- **Inefficient for Certain Languages**\n",
        "\n",
        "Whitespace tokenization can be particularly ineffective for languages that do not use spaces as word delimiters, such as:\n",
        "\n",
        "**Chinese and Japanese:** These languages use characters without spaces to separate words, making whitespace tokenization unsuitable without additional preprocessing techniques.\n",
        "\n",
        "\n",
        "**Agglutinative Languages:** Languages like Turkish or Finnish, where words can be formed by concatenating multiple morphemes, may lead to overly granular tokenization that fails to capture meaningful linguistic units.\n",
        "\n",
        "\n",
        "- **Poor Generalization Across Domains**\n",
        "\n",
        "Different domains may use unique terminologies or jargon. Whitespace tokenization lacks the adaptability to learn or incorporate these specific linguistic patterns:\n",
        "\n",
        "\n",
        "**Domain-Specific Vocabulary:** In technical fields like medicine or law, where specific terms are crucial for accurate representation, whitespace tokenization will treat these terms based solely on spacing, failing to recognize their significance or relationship to each other.\n",
        "\n",
        "\n",
        "- **Dependency on Clean Data**\n",
        "\n",
        "Whitespace tokenization assumes that the input text is clean and well-formed. In practice, text data often contains errors, such as typos, missing spaces, or inconsistent formatting:\n",
        "\n",
        "\n",
        "**Data Preprocessing Overhead:** Significant preprocessing may be necessary to clean the data, including correcting spacing issues and normalizing punctuation, which can introduce additional complexity to the text processing pipeline."
      ]
    },
    {
      "cell_type": "markdown",
      "metadata": {
        "id": "ZtteugyooJS7"
      },
      "source": [
        "### Part 3.1: **Levenshtein & Damerau-Levenshtein Distances** <a name=\"Levenshtein_DamerauLevenshtein_Distance\"></a>"
      ]
    },
    {
      "cell_type": "markdown",
      "metadata": {},
      "source": [
        "#### **Levenshtein Distance**"
      ]
    },
    {
      "cell_type": "markdown",
      "metadata": {},
      "source": [
        "In information theory, linguistics, and computer science, the **Levenshtein Distance** is a string metric for measuring the difference between two sequences. The Levenshtein distance between two words is the minimum number of single-character edits (insertions, deletions, substituitions) required to change one word into the other. \n",
        "\n",
        "Levenshtein distance may also be referred to as **Edit Distance**, although that term may also denote a larger family of distance metric known collectively as edit distancec. It closely related to **Pairwise String Alignments**."
      ]
    },
    {
      "cell_type": "markdown",
      "metadata": {},
      "source": [
        "##### **Example**"
      ]
    },
    {
      "cell_type": "markdown",
      "metadata": {},
      "source": [
        "For example, the Levenshtein distance between \"kitten\" and \"sitting\" is 3, since the following 3 edits change one into the other, and there is no way to do it with fewer than 3 edits:\n",
        "\n",
        "- **K**itten -> **S**itten (Substitution of 'S' for 'K')\n",
        "\n",
        "- Sitt**e**n -> Sitt**i**n (Substitution of 'i' for 'e')\n",
        "\n",
        "- Sittin -> Sittin**g** (insertion of 'g' at the end)\n",
        "\n",
        "- Uni**n**formed -> Uniformed (Deletion of 'n')\n"
      ]
    },
    {
      "cell_type": "markdown",
      "metadata": {},
      "source": [
        "The Levenshtein distance has several simple upper and lower bounds. These include:\n",
        "\n",
        "- It is at least the absolute value of the difference of the sizes of the two strings.\n",
        "\n",
        "- It is at most the length of the longer string.\n",
        "\n",
        "- It is zero if and only if the strings are equal.\n",
        "\n",
        "- If the strings have the same size, the **Hamming distance** is an upper bound on the Levenshtein distance. The Hamming distance is the number of positions at which the corresponding symbols in the two strings are different.\n",
        "\n",
        "- The Levenshtein distance between two strings is no greater than the sum of their Levenshtein distances from a third string (triangle inequality)."
      ]
    },
    {
      "cell_type": "markdown",
      "metadata": {},
      "source": [
        "In **approximate string matching**, the objective is to find matches for short strings in many longer texts, in situations where a small number of differences is to be expected. The short strings could come from a dictionary, for instance. Here, one of the strings is typically short, while the other is arbitrarily long. This has a wide range of applications, for instance, spell checkers, correction systems for optical character recognition, and software to assist natural-language translation based on translation memory.\n",
        "\n",
        "The Levenshtein distance can also be computed between two longer strings, but the cost to compute it, which is roughly proportional to the product of the two string lengths, makes this impractical. Thus, when used to aid in fuzzy string searching in applications such as record linkage, the compared strings are usually short to help improve speed of comparisons.\n",
        "\n",
        "In linguistics, the Levenshtein distance is used as a metric to quantify the linguistic distance, or how different two languages are from one another. It is related to mutual intelligibility: the higher the linguistic distance, the lower the mutual intelligibility, and the lower the linguistic distance, the higher the mutual intelligibility."
      ]
    },
    {
      "cell_type": "markdown",
      "metadata": {},
      "source": [
        "##### **The process step-by-step of Levenshtein Distance**"
      ]
    },
    {
      "cell_type": "markdown",
      "metadata": {},
      "source": [
        "- **Step 1: Define the Problem**\n",
        "    Given two strings:\n",
        "        - String A (length = m)\n",
        "        - String B (length = n)\n",
        "    The goal is to calculate the Levenshtein distance between these two strings, which represents the smallest number of edits needed to transform A into B.\n",
        "\n",
        "\n",
        "- **Step 2: Create a Matrix**\n",
        "    - Initialize a Matrix\n",
        "        Create a matrix d of size (m + 1) x (n + 1)\n",
        "        Each cell d[i][j] will represent the Levenshtein distance between the first i characters of String A and the first j characters of String B.\n",
        "    - Matrix Dimensions\n",
        "        The matrix has dimensions (m + 1) x (n + 1) because we account for the empty string as a prefix for both strings.\n",
        "\n",
        "\n",
        "- **Step 3: Initialize the Base Cases**\n",
        "    - The first row and column of the matrix are initialized to represent the distance when one of the strings is empty:\n",
        "        - First Row Initialization:\n",
        "            The first row corresponds to the distance from the empty string to the first j characters of String B. This distance is simply the number of insertions required to form String B from the empty string.\n",
        "            - Set d[0][j] = j for all j in the range [0, n]\n",
        "        \n",
        "        - First Column Initialization \n",
        "            - The first column corresponds to the distance from the first i characters of String A to the empty string. This distance is the number of deletions required to reduce String A to an empty string.\n",
        "            - Set d[i][0] = i for all i in the range [0, m]\n",
        "\n",
        "\n",
        "- **Step 4: Fill the Matrix**\n",
        "    - The next step is to iterate through each character of both strings and fill in the matrix based on the following rules:\n",
        "        - Iterate Through Each Character\n",
        "            - For each character A[i-1] from String A and B[j-1] from String B, calculate the edit distance using the previous values in the matrix.\n",
        "        - Determine Cost\n",
        "            - If the characters A[i-1] and B[j-1] are the same, the cost is 0 (no edit is needed)\n",
        "            - If they are different, the cost is 1 (substitution is needed)\n",
        "        - Calculate Minimum Distance\n",
        "            - The value in cell d[i][j] is calculated\n",
        "                - This formula considers:\n",
        "                    - The distance if the character from String A is deleted.\n",
        "                    - The distance if a character is added to String A to match String B.\n",
        "                    - The distance if the characters are replaced.\n",
        "\n",
        "\n",
        "- **Step 5: Retrieve the Result**\n",
        "    - The final step is to retrieve the value from the bottom-right cell of the matrix, which gives the Levenshtein distance between the two strings.\n",
        "\n",
        "\n"
      ]
    },
    {
      "cell_type": "markdown",
      "metadata": {},
      "source": [
        "#### **Damerau-Levenshtein Distance**"
      ]
    },
    {
      "cell_type": "markdown",
      "metadata": {},
      "source": [
        "In information theory and computer science, the Damerau–Levenshtein distance (named after Frederick J. Damerau and Vladimir I. Levenshtein) is a string metric for measuring the edit distance between two sequences. Informally, the Damerau–Levenshtein distance between two words is the minimum number of operations (consisting of insertions, deletions or substitutions of a single character, or transposition of two adjacent characters) required to change one word into the other.\n",
        "\n",
        "The Damerau–Levenshtein distance differs from the classical Levenshtein distance by including transpositions among its allowable operations in addition to the three classical single-character edit operations (insertions, deletions and substitutions).\n",
        "\n",
        "Damerau stated that in an investigation of spelling errors for an information-retrieval system, more than 80% were a result of a single error of one of the four types. Damerau's paper considered only misspellings that could be corrected with at most one edit operation. While the original motivation was to measure distance between human misspellings to improve applications such as spell checkers, Damerau–Levenshtein distance has also seen uses in biology to measure the variation between protein sequences.\n",
        "\n"
      ]
    },
    {
      "cell_type": "markdown",
      "metadata": {},
      "source": [
        "##### Example"
      ]
    },
    {
      "cell_type": "markdown",
      "metadata": {},
      "source": [
        "The Damerau-Levenshtein distance between \"kitten\" and \"sitting\" is 3, since the following 3 edits change one into the other, and there is no way to do it with fewer than 3 edits:\n",
        "\n",
        "- **K**itten -> **S**itten (Substitution of 'S' for 'K')\n",
        "\n",
        "- Sitt**e**n -> Sitt**i**n (Substitution of 'i' for 'e')\n",
        "\n",
        "- Sittin -> Sittin**g** (Insertion of 'g' at the end)\n",
        "\n",
        "- Cd**e**f -> C**f**ed (Transposition of 'e' and 'f') \n",
        "\n",
        "- **C**d -> Dc (Transposition of 'c' and 'd')"
      ]
    },
    {
      "cell_type": "markdown",
      "metadata": {},
      "source": [
        "##### **The process step-by-step of Damerau-Levenshtein Distance**"
      ]
    },
    {
      "cell_type": "markdown",
      "metadata": {},
      "source": [
        "The Damerau-Levenshtein distance measures the minimum number of edit operations required to transform one string into another. The allowable operations are:\n",
        "\n",
        "- **Insertion:** Adding a character.\n",
        "\n",
        "- **Deletion:** Removing a character.\n",
        "\n",
        "- **Substitution:** Replacing one character with another.\n",
        "\n",
        "- **Transposition:** Swapping two adjacent characters.\n",
        "\n",
        "---\n",
        "- **Initialize the Strings**\n",
        "  - Let A be the first string and B be the second string. \n",
        "\n",
        "- **Create a Distance Matrix**\n",
        "  - Create a 2D matrix D with dimensions (len(A) + 1) × (len(B) + 1)\n",
        "\n",
        "- **Initialize Base Cases**\n",
        "  - Fill in the first row (0 to len(B)) and the first column (0 to len(A)) of the matrix:\n",
        "    - D[i][0]=i (cost of deleting all characters from A)\n",
        "    - D[0][j]=j (cost of inserting all characters into A to form B)\n",
        "\n",
        "- **Iterate through Characters**\n",
        "  - Loop through each character in A and B:\n",
        "    - For each character A[i] and B[j], Compute:\n",
        "      - If A[i] = B[j]:\n",
        "        - Set D[i][j] = D[i-1][j-1] (no cost if characters are the same)\n",
        "      - If A[i] =! B[j]:\n",
        "        - Set D[i][j] = min(deletion, insertion, substitution):\n",
        "        - D[i-1][j]+1 (deletion)\n",
        "        - D[i][j-1]+1 (insertion)\n",
        "        - D[i-1][j-1]+1 (substitution)\n",
        "\n",
        "- **Check for Transposition**\n",
        "  - If i>1 and j>1:\n",
        "    - If A[i] = B[j-1] and A[i-1] = B[j]:\n",
        "      - Set D[i][j]=min(D[i][j], D[i-2][j-2]+1) (Cost for transposition)\n",
        "\n",
        "- **Fill the matrix**\n",
        "  - Continue filling the matrix using the rules from Steps 4 and 5 until all characters are processed.\n",
        "\n",
        "- **Retrieve the Result**\n",
        "  - The value in the bottom-right cell of the matrix D[len(A)][len(B)] gives the Damerau-Levenshtein distance between the two strings.\n",
        "\n",
        "- **Return the Distance**\n",
        "  - Return or output the computed distance as the final result.\n",
        "\n",
        "\n"
      ]
    },
    {
      "cell_type": "markdown",
      "metadata": {},
      "source": [
        "### Part 3.2: **Levenshtein & Damerau-Levenshtein Distances In Py** <a name=\"implemented_Distances\"></a>"
      ]
    },
    {
      "cell_type": "markdown",
      "metadata": {},
      "source": [
        "#### **Levenshtein Distance in Py**"
      ]
    },
    {
      "cell_type": "markdown",
      "metadata": {},
      "source": [
        "##### **Import Necassary library**"
      ]
    },
    {
      "cell_type": "code",
      "execution_count": 51,
      "metadata": {},
      "outputs": [],
      "source": [
        "import numpy as np"
      ]
    },
    {
      "cell_type": "markdown",
      "metadata": {},
      "source": [
        "##### **Lvenshtein Function**"
      ]
    },
    {
      "cell_type": "markdown",
      "metadata": {},
      "source": [
        "This function calculates the **Levenshtein distance** between two strings, **s1** and **s2**, which represents the minimum number of single-character edits required to transform one string into the other. The three possible operations are **insertion**, **deletion**, and **substitution** of characters.\n",
        "\n",
        "**Parameters:**\n",
        "  - **s1 (str)**: The first input string. \n",
        "  - **S2 (str)**: The second input string. \n",
        "\n",
        "**Returns:**\n",
        "  - **int**: The Levenshtein distance between **s1** and **s2**, indicating the minimum edit operations required. \n",
        "\n",
        "- **Matrix Initialization**: \n",
        "  - A 2D array **dp** of size ((n+1) * (m+1)) is created, where **n** and **m** are the lengths of **s1** and **s2**, respectively.\n",
        "    \n",
        "    - The first row is initialized to represent the cost of converting an empty string to **s2** (insertions).\n",
        "    \n",
        "    - The first column is initialized to represent the cost of converting **s1** to an empty string (deletions).\n",
        "  \n",
        "- **Matrix Filling**: \n",
        "  - Using a nested loop, the matrix is filled based on the following rules:\n",
        "    - If characters match **(s1[i-1] == s2[j-1])**, the value is taken from **dp[i-1][j-1]** as no edit is needed.\n",
        "    - If characters do not match, the value is the minimum of:\n",
        "      - **dp[i-1][j] + 1** (deletion),\n",
        "      - **dp[i][j-1] + 1** (insertion),\n",
        "      - **dp[i-1][j-1] + 1** (substitution).\n",
        "\n",
        "- **Result**: \n",
        "  The Levenshtein distance is found in the cell **dp[n][m]**, which contains the minimum number of edits required to transform **s1** into **s2**.\n"
      ]
    },
    {
      "cell_type": "code",
      "execution_count": 52,
      "metadata": {},
      "outputs": [],
      "source": [
        "def levenshtein_distance(s1, s2):\n",
        "\n",
        "    n, m = len(s1), len(s2)\n",
        "    \n",
        "    dp = np.zeros((n + 1, m + 1), dtype=int)\n",
        "    \n",
        "    for i in range(n + 1):\n",
        "        dp[i][0] = i  \n",
        "    for j in range(m + 1):\n",
        "        dp[0][j] = j  \n",
        "    \n",
        "    for i in range(1, n + 1):\n",
        "        for j in range(1, m + 1):\n",
        "            \n",
        "            if s1[i - 1] == s2[j - 1]:\n",
        "\n",
        "                dp[i][j] = dp[i - 1][j - 1]\n",
        "            \n",
        "            else:\n",
        "            \n",
        "                dp[i][j] = min(\n",
        "                    dp[i - 1][j] + 1,  \n",
        "                    dp[i][j - 1] + 1,  \n",
        "                    dp[i - 1][j - 1] + 1  \n",
        "                )\n",
        "    \n",
        "    return dp[n][m]"
      ]
    },
    {
      "cell_type": "markdown",
      "metadata": {},
      "source": [
        "##### **List of word pairs to calculate the Levenshtein distance**\n"
      ]
    },
    {
      "cell_type": "code",
      "execution_count": 53,
      "metadata": {},
      "outputs": [],
      "source": [
        "word_pairs = [\n",
        "    (\"kitten\", \"sitting\"),\n",
        "    (\"saturday\", \"sunday\"),\n",
        "    (\"book\", \"back\"),\n",
        "    (\"algorithm\", \"logarithm\"),\n",
        "    (\"\", \"test\"),\n",
        "    (\"abc\", \"acb\")\n",
        "]"
      ]
    },
    {
      "cell_type": "markdown",
      "metadata": {},
      "source": [
        "##### **Compute and display the distance for each pair**"
      ]
    },
    {
      "cell_type": "code",
      "execution_count": 54,
      "metadata": {},
      "outputs": [
        {
          "name": "stdout",
          "output_type": "stream",
          "text": [
            "Levenshtein distance between 'kitten' and 'sitting' is 3\n",
            "Levenshtein distance between 'saturday' and 'sunday' is 3\n",
            "Levenshtein distance between 'book' and 'back' is 2\n",
            "Levenshtein distance between 'algorithm' and 'logarithm' is 3\n",
            "Levenshtein distance between '' and 'test' is 4\n",
            "Levenshtein distance between 'abc' and 'acb' is 2\n"
          ]
        }
      ],
      "source": [
        "for s1, s2 in word_pairs:\n",
        "   \n",
        "    distance = levenshtein_distance(s1, s2)\n",
        "   \n",
        "    print(f\"Levenshtein distance between '{s1}' and '{s2}' is {distance}\")"
      ]
    },
    {
      "cell_type": "markdown",
      "metadata": {},
      "source": [
        "##### **Why These Results??**"
      ]
    },
    {
      "cell_type": "markdown",
      "metadata": {},
      "source": [
        "1. **Levenshtein distance between 'kitten' and 'sitting' is 3**\n",
        "  \n",
        "   The distance is **3** because three edits are needed to change \"kitten\" into \"sitting\":\n",
        "   \n",
        "      1. **Substitute 'k' with 's'**:  \n",
        "         \"kitten\" -> \"sitten\"\n",
        "      \n",
        "      2. **Substitute 'e' with 'i'**:  \n",
        "         \"sitten\" -> \"sittin\"\n",
        "      \n",
        "      3. **Insert 'g'**:  \n",
        "         \"sittin\" -> \"sitting\"\n",
        "\n",
        "---\n",
        "\n",
        "2. **Levenshtein distance between 'saturday' and 'sunday' is 3**\n",
        "   \n",
        "   The distance is **3** because three deletions are required to transform \"saturday\" into \"sunday\":\n",
        "   \n",
        "      1. **Delete 'a'**: \n",
        "         \"saturday\" -> \"sturday\"\n",
        "   \n",
        "      2. **Delete 't'**:  \n",
        "         \"sturday\" -> \"surday\"\n",
        "   \n",
        "      3. **Delete 'r'**:  \n",
        "      \"surday\" -> \"sunday\"\n",
        "---\n",
        "\n",
        "3. **Levenshtein distance between 'book' and 'back' is 2**\n",
        "\n",
        "   The distance is **2** because two substitutions are needed to change \"book\" into \"back\":\n",
        "\n",
        "      1. **Substitute 'o' with 'a'**:  \n",
        "         \"book\" -> \"baok\"\n",
        "      \n",
        "      2. **Substitute 'o' with 'c'**:  \n",
        "         \"baok\" -> \"back\"\n",
        "\n",
        "---\n",
        "\n",
        "4. **Levenshtein distance between 'algorithm' and 'logarithm' is 3**\n",
        "\n",
        "   The distance is **3** because three operations are required to transform \"algorithm\" into \"logarithm\":\n",
        "   \n",
        "      1. **Delete 'a'**:  \n",
        "         \"algorithm\" -> \"lgorithm\"\n",
        "      \n",
        "      2. **Insert 'l'**:  \n",
        "         \"lgorithm\" -> \"logarithm\"\n",
        "      \n",
        "      3. **No other operations are needed** since the remaining characters match.\n",
        "\n",
        "---\n",
        "\n",
        "5. **Levenshtein distance between '' and 'test' is 4**\n",
        "\n",
        "   The distance is **4** because four insertions are needed to transform an empty string into \"test\":\n",
        "   \n",
        "      1. **Insert 't'**:  \n",
        "         \"\" -> \"t\"\n",
        "      \n",
        "      2. **Insert 'e'**:  \n",
        "         \"t\" -> \"te\"\n",
        "      \n",
        "      3. **Insert 's'**:  \n",
        "         \"te\" -> \"tes\"\n",
        "      \n",
        "      4. **Insert 't'**:  \n",
        "         \"tes\" → \"test\"\n",
        "\n",
        "---\n",
        "\n",
        "6. **Levenshtein distance between 'abc' and 'acb' is 2**\n",
        "   The distance is **2** because two operations (substitutions) are needed to change \"abc\" into \"acb\":\n",
        "      1. **Substitute 'b' with 'c'**:  \n",
        "         \"abc\" -> \"acc\"\n",
        "      \n",
        "      2. **Substitute 'c' with 'b'**: \n",
        "         \"acc\" -> \"acb\"\n"
      ]
    },
    {
      "cell_type": "markdown",
      "metadata": {},
      "source": [
        "#### **Damerau-Levenshtein Distance in Py**"
      ]
    },
    {
      "cell_type": "markdown",
      "metadata": {},
      "source": [
        "- **Insertion**: Adding a character to the string.\n",
        "\n",
        "- **Deletion**: Removing a character from the string.\n",
        "\n",
        "- **Substitution**: Replacing one character with another.\n",
        "\n",
        "- **Transposition**: Swapping two adjacent characters.\n",
        "\n",
        "**Function Definition**\n",
        "\n",
        "The following Python function, **damerau_levenshtein_distance**, calculates the Damerau-Levenshtein distance between two input strings, **s1** and **s2**.\n",
        "\n",
        "**Function Details**\n",
        "\n",
        "- **Input**:\n",
        "  - **s1**: The first string.\n",
        "  - **s2**: The second string.\n",
        "\n",
        "- **Output**:\n",
        "  - Returns an integer representing the Damerau-Levenshtein distance between the two strings.\n",
        "\n",
        "\n",
        "1. **Matrix Initialization**: \n",
        "   - A 2D matrix **dp** is created, where **dp[i][j]** will hold the distance between the first **i** characters of **s1** and the first **j** characters of **s2**.\n",
        "   - The first row and first column of the matrix are initialized to represent the cost of converting an empty string to the other string.\n",
        "\n",
        "2. **Distance Calculation**:\n",
        "   - A nested loop iterates through each character of **s1** and **s2**. For each pair of characters, the function:\n",
        "     - Checks if they match. If they do, the cost remains the same as **dp[i-1][j-1]**.\n",
        "     - If they don't match, it calculates the minimum cost among deletion, insertion, and substitution.\n",
        "     - Additionally, it checks for transpositions (swapping of adjacent characters) to account for this operation.\n",
        "\n",
        "3. **Return Value**:\n",
        "   - The final Damerau-Levenshtein distance is found in the bottom-right cell of the matrix, **dp[n][m]**.\n"
      ]
    },
    {
      "cell_type": "code",
      "execution_count": 55,
      "metadata": {},
      "outputs": [],
      "source": [
        "def damerau_levenshtein_distance(s1, s2):\n",
        "\n",
        "    n, m = len(s1), len(s2)\n",
        "    \n",
        "    dp = np.zeros((n + 1, m + 1), dtype=int)    \n",
        "\n",
        "    for i in range(n + 1):\n",
        "        dp[i][0] = i  \n",
        "    for j in range(m + 1):\n",
        "        dp[0][j] = j \n",
        "    \n",
        "    for i in range(1, n + 1):\n",
        "        for j in range(1, m + 1):\n",
        "            if s1[i - 1] == s2[j - 1]:\n",
        "\n",
        "                dp[i][j] = dp[i - 1][j - 1]\n",
        "            else:\n",
        "\n",
        "                dp[i][j] = min(\n",
        "                    dp[i - 1][j] + 1, \n",
        "                    dp[i][j - 1] + 1, \n",
        "                    dp[i - 1][j - 1] + 1  \n",
        "                )\n",
        "                \n",
        "            if i > 1 and j > 1 and s1[i - 1] == s2[j - 2] and s1[i - 2] == s2[j - 1]:\n",
        "                dp[i][j] = min(dp[i][j], dp[i - 2][j - 2] + 1)  \n",
        "\n",
        "    return dp[n][m]"
      ]
    },
    {
      "cell_type": "markdown",
      "metadata": {},
      "source": [
        "##### **Compute the Damerau-Levenshtein distance for each pair**"
      ]
    },
    {
      "cell_type": "code",
      "execution_count": 56,
      "metadata": {},
      "outputs": [
        {
          "name": "stdout",
          "output_type": "stream",
          "text": [
            "Damerau-Levenshtein distance between 'kitten' and 'sitting' is 3\n",
            "Damerau-Levenshtein distance between 'saturday' and 'sunday' is 3\n",
            "Damerau-Levenshtein distance between 'book' and 'back' is 2\n",
            "Damerau-Levenshtein distance between 'algorithm' and 'logarithm' is 3\n",
            "Damerau-Levenshtein distance between '' and 'test' is 4\n",
            "Damerau-Levenshtein distance between 'abc' and 'acb' is 1\n"
          ]
        }
      ],
      "source": [
        "for s1, s2 in word_pairs:\n",
        "   \n",
        "    distance = damerau_levenshtein_distance(s1, s2)\n",
        "   \n",
        "    print(f\"Damerau-Levenshtein distance between '{s1}' and '{s2}' is {distance}\")\n"
      ]
    },
    {
      "cell_type": "markdown",
      "metadata": {},
      "source": [
        "##### **Why These Results??**"
      ]
    },
    {
      "cell_type": "markdown",
      "metadata": {},
      "source": [
        "1. **Damerau-Levenshtein distance between 'kitten' and 'sitting' is 3**\n",
        "   - **Substitution**: 'k' is changed to 's' -> \"kitten\" becomes \"sitten\".\n",
        "   - **Substitution**: 'e' is changed to 'i' -> \"sitten\" becomes \"sittin\".\n",
        "   - **Insertion**: Add 'g' at the end -> \"sittin\" becomes \"sitting\".\n",
        "   - Thus, the distance is 3.\n",
        "---\n",
        "2. **Damerau-Levenshtein distance between 'saturday' and 'sunday' is 3**\n",
        "   - **Deletion**: Remove 'a' -> \"saturday\" becomes \"sturday\".\n",
        "   - **Deletion**: Remove 't' -> \"sturday\" becomes \"surday\".\n",
        "   - **Deletion**: Remove 'r' -> \"surday\" becomes \"sunday\".\n",
        "   - Thus, the distance is 3.\n",
        "---\n",
        "3. **Damerau-Levenshtein distance between 'book' and 'back' is 2**\n",
        "   - **Substitution**: 'o' is changed to 'a' -> \"book\" becomes \"baok\".\n",
        "   - **Substitution**: 'o' is changed to 'c' -> \"baok\" becomes \"back\".\n",
        "   - Thus, the distance is 2.\n",
        "---\n",
        "4. **Damerau-Levenshtein distance between 'algorithm' and 'logarithm' is 3**\n",
        "   - **Deletion**: Remove 'a' at the start -> \"algorithm\" becomes \"lgorithm\".\n",
        "   - **Insertion**: Add 'l' at the beginning -> \"lgorithm\" becomes \"logarithm\".\n",
        "   - **Transposition**: Swap 'a' and 'l' (but this adjustment was counted as a separate step) -> \"lgorithm\" aligns with \"logarithm\".\n",
        "   - Thus, the distance is 3.\n",
        "---\n",
        "5. **Damerau-Levenshtein distance between '' and 'test' is 4**\n",
        "   - **Insertion**: Add 't' -> \"\" becomes \"t\".\n",
        "   - **Insertion**: Add 'e' -> \"t\" becomes \"te\".\n",
        "   - **Insertion**: Add 's' -> \"te\" becomes \"tes\".\n",
        "   - **Insertion**: Add 't' -> \"tes\" becomes \"test\".\n",
        "   - Thus, the distance is 4.\n",
        "---\n",
        "6. **Damerau-Levenshtein distance between 'abc' and 'acb' is 1**\n",
        "   - **Transposition**: Swap 'b' and 'c' -> \"abc\" becomes \"acb\".\n",
        "   - Thus, the distance is 1, as only one transposition is needed."
      ]
    },
    {
      "cell_type": "markdown",
      "metadata": {},
      "source": [
        "#### **Difference in Results**"
      ]
    },
    {
      "cell_type": "markdown",
      "metadata": {},
      "source": [
        "**Levenshtein vs. Damerau-Levenshtein for 'abc' and 'acb'**\n",
        "\n",
        "- **Levenshtein distance**: **2**\n",
        "- **Damerau-Levenshtein distance**: **1**\n",
        "\n",
        "**Whyyy???!**:  \n",
        "- With **Levenshtein**, transforming \"abc\" into \"acb\" requires two substitutions:  \n",
        "  - **Substitute 'b' with 'c'**:  \n",
        "    \"abc\" -> \"acc\"  \n",
        "  \n",
        "  - **Substitute 'c' with 'b'**:  \n",
        "    \"acc\" -> \"acb\"  \n",
        "  - Total edits: **2**\n",
        "\n",
        "- With **Damerau-Levenshtein**, the same transformation can be achieved with a single **transposition** of 'b' and 'c':  \n",
        "  \n",
        "  - **Transposition**: Swap 'b' and 'c' directly:  \n",
        "    \"abc\" -> \"acb\"  \n",
        "  \n",
        "  - Total edits: **1**\n",
        "\n",
        "**Difference**:  \n",
        "- **Damerau-Levenshtein distance** is **1** due to its ability to account for the transposition, whereas **Levenshtein** counts it as two separate substitutions, resulting in a distance of **2**.\n"
      ]
    },
    {
      "cell_type": "markdown",
      "metadata": {
        "id": "_W26Ui-KYUm2"
      },
      "source": [
        "\n",
        "## **Chapter 2: N-Gram Language Models** <a name=\"Chapter-2\"></a>\n"
      ]
    },
    {
      "cell_type": "markdown",
      "metadata": {
        "id": "InJwAZtomudc"
      },
      "source": [
        "### CH2-Data: **About Dataset** <a name=\"CH2-data\"></a>"
      ]
    },
    {
      "cell_type": "markdown",
      "metadata": {},
      "source": [
        "- **Ferdowsi:**\n",
        "  \n",
        "    - **خداوند کیوان و گردان سپهر**        \n",
        "    \n",
        "    - **فروزنده ماه و ناهید و مهر**\n",
        "\n",
        "- **Hafez**\n",
        "\n",
        "    - **مبين به سيب زنخدان که چاه در راه است**    \n",
        "    \n",
        "    -  **کجا همی‌روی ای دل بدین شتاب کجا**\n",
        "\n",
        "- **Modern Poet**\n",
        "    \n",
        "    - **من ندانم با که گویم شرح درد قصه ی رنگ پریده ، خون سرد ؟ هر که با من همره و پیمانه شد عاقبت شیدا دل و دیوانه شد**\n",
        "\n",
        "---\n",
        "- **After Normalization**\n",
        "\n",
        "    - **Ferdowsi**\n",
        "        - **خداوند کیوان و گردان سپهر** (فاصله)**فروزنده ماه و ناهید و مهر**\n",
        "\n",
        "    - **Hafez**\n",
        "        - **مبین به سیب زنخدان که جاله در راه است**(فاصله)**کجا همی‌روی ای دل بدین شتاب کجا**\n",
        "    - **Modern Poet**\n",
        "        - **من ندانم با که گویم شرح درد قصه ی رنگ پریده ، خون سرد ؟ هر که با من همره و پیمانه شد عاقبت شیدا دل و دیوانه شد**"
      ]
    },
    {
      "cell_type": "markdown",
      "metadata": {},
      "source": [
        "### Part 1.1: **WordPiece** <a name=\"Wordpiece_Tokenizer\"></a>\n"
      ]
    },
    {
      "cell_type": "markdown",
      "metadata": {},
      "source": [
        "- **Wordpiece** is a subword tokenization algorithm closely related to **Pyte Pair Encoding (BPE)**. \n",
        "   \n",
        "    - Developed by **Google**.\n",
        "    \n",
        "    - It was initially used for Japanese and Korean voice search, and later became a crucial component in models like:\n",
        "        \n",
        "        - **BERT**\n",
        "        \n",
        "        - **DistilBERT**"
      ]
    },
    {
      "cell_type": "markdown",
      "metadata": {},
      "source": [
        "#### **How Wordpiece Relates to BPE**"
      ]
    },
    {
      "cell_type": "markdown",
      "metadata": {},
      "source": [
        "Wordpiece and BPE share the same fundamental concept: iteratively merging frequent pairs of characters or subwords to create a vocabulary of subword units.\n",
        "\n",
        "However, WordPiece introduce a  modification in how it selects pairs merge. "
      ]
    },
    {
      "cell_type": "markdown",
      "metadata": {},
      "source": [
        "#### **WordPiece Algorithm**"
      ]
    },
    {
      "cell_type": "markdown",
      "metadata": {},
      "source": [
        "1. **Initialization**\n",
        "    \n",
        "    - **Process**\n",
        "        \n",
        "        1. Start with a vocabulary of individual characters from the training corpus. \n",
        "\n",
        "        2. Add special tokens:\n",
        "\n",
        "            - **[UNK]** for unknown tokens.\n",
        "\n",
        "            - **##prefix** for subwords that don't start a word.\n",
        "    \n",
        "    - **Rationale**\n",
        "\n",
        "        1. Character-level initialization ensures coverage of all possible subwords.\n",
        "\n",
        "        2. Special tokens help in handling unseen words and maintaining word boundary information.\n",
        "\n",
        "2. **Tokenizatoin of Training data**\n",
        "\n",
        "    - **Process**\n",
        "\n",
        "        1. Split the training corpus into words.\n",
        "\n",
        "        2. For each word, create all possible subword combinations.\n",
        "    \n",
        "    - **Rationale**\n",
        "\n",
        "        This step creates the initial pool of potential subwords to consider for the vocabulary.\n",
        "\n",
        "3. **Calculating Token Frequencies**\n",
        "\n",
        "    - **Process**\n",
        "\n",
        "        1. Count the frequency of each subword in the training data.\n",
        "\n",
        "        2. Keep track of which subwords appear at the start of words vs. in the middle/end.\n",
        "    \n",
        "    - **Ratoinale**\n",
        "\n",
        "        1. Frequency information is crucial for the scoring step.\n",
        "\n",
        "        2. Distinguishing between word-initial and non-initial subwords helps maintain word structure information.\n",
        "\n",
        "4. **Iterative Merging**\n",
        "    \n",
        "    - This is the core of the algorithm, repeated until the desired vocabulary size is reached or the highest score falls below a threshold.\n",
        "    \n",
        "    - 4.1 **Score Calculation**\n",
        "        \n",
        "        - **Formula**\n",
        "            $$ \\text{score}(A,B) = \\frac{\\text{freq}(A,B)}{\\text{freq}(A) \\times \\text{freq}(B)} $$\n",
        "\n",
        "        \n",
        "        - **Where:**\n",
        "\n",
        "            - freq(AB) is the frequency of the combined token.\n",
        "\n",
        "            - len(vocab) is the current vocabulary size.\n",
        "\n",
        "            - freq(A) and freq(B) are the individual frequencies of A and B.\n",
        "    \n",
        "        - **Process**\n",
        "            \n",
        "            - Calculate this score for every possible pair of tokens in the current vocabulary.\n",
        "        \n",
        "        - **Rationale**\n",
        "            \n",
        "            1. This score approximates the likelihood improvement of the training data if this merge is performed.\n",
        "            \n",
        "            2. Multiplying by len(vocab) gives a slight preference to longer subword units as the vocabulary grows.\n",
        "    \n",
        "    - 4.2 **Pair Selection**\n",
        "\n",
        "        - **Process**\n",
        "\n",
        "            - Select the pair with the highest score.\n",
        "        \n",
        "        - **Rationale**\n",
        "\n",
        "            - This pair represents the merge that would most improve the model’s ability to compress the training data.\n",
        "    \n",
        "    - 4.3 **Merging**\n",
        "\n",
        "        - **Process**\n",
        "\n",
        "            1. Add the merged token to the vocabulary.\n",
        "\n",
        "            2. If it’s not a word-initial subword, add it with the ## prefix.\n",
        "\n",
        "            3. Update the tokenization of the training data to use this new token where applicable.\n",
        "\n",
        "        - **Rationale**\n",
        "\n",
        "            1. This step gradually builds up the vocabulary with the most useful subword units.\n",
        "\n",
        "            2. The ## prefix helps maintain information about word structure.\n",
        "\n",
        "    - 4.4 **Frequency Update**\n",
        "\n",
        "        - **Process**\n",
        "\n",
        "            1. Update the frequencies of all affected tokens.\n",
        "\n",
        "            2. This includes the new merged token and any tokens that contained the merged pair.\n",
        "        \n",
        "        - **Rationale**\n",
        "\n",
        "            - Keeping accurate frequency counts is crucial for subsequent scoring rounds.\n",
        "\n",
        "5. **Stopping Criterion**\n",
        "\n",
        "    - **Options**\n",
        "\n",
        "        1. Reach a predefined vocabulary size.\n",
        "\n",
        "        2. Continue until the highest merge score falls below a certain threshold.\n",
        "    \n",
        "    - **Rationale**\n",
        "\n",
        "        1. A fixed vocabulary size ensures predictable memory usage and computation time in downstream models.\n",
        "\n",
        "        2. A score threshold can help ensure that only meaningful merges are performed.\n",
        "\n",
        "6. **Final Vocabulary Construction**\n",
        "\n",
        "    - **Process**\n",
        "\n",
        "        1. Once stopping criterion is met, finalize the vocabulary.\n",
        "\n",
        "        2. Ensure all tokens are unique and properly formatted (with ## for non-initial subwords).\n",
        "    \n",
        "    - **Rationale**\n",
        "\n",
        "        - The final vocabulary should be clean and ready for use in tokenization tasks.\n",
        "\n",
        "7. **Tokenization Algorithm**\n",
        "\n",
        "    - Once the WordPiece vocabulary is constructed, tokenization of new text follows these steps:\n",
        "\n",
        "        1. Split the input text into words.\n",
        "\n",
        "        2. For each word:\n",
        "\n",
        "            A. Try to match the longest subword from the vocabulary at the start of the word.\n",
        "\n",
        "            B. If a match is found, add it to the output and repeat from the next character.\n",
        "\n",
        "            C. If no match is found, add [UNK] token and move to the next character.\n",
        "\n",
        "            D. For matches after the first character, use the ## version of the subword.\n",
        "    \n",
        "    - **Rationale**\n",
        "\n",
        "        1. This greedy longest-match approach ensures consistent tokenization.\n",
        "\n",
        "        2. It balances the use of larger subword units where possible with the ability to fall back to smaller units when needed.\n"
      ]
    },
    {
      "cell_type": "markdown",
      "metadata": {},
      "source": [
        "### Part 1.2: **Models Using WordPiece** <a name=\"Models\"></a>"
      ]
    },
    {
      "cell_type": "markdown",
      "metadata": {},
      "source": [
        "**WordPiece Tokenization** is a **subword tokenization algorithm** originally developed for use in the **BERT (Bidirectional Encoder Representations from Transformers) model by Google**.\n",
        "\n",
        "- **Applications in BERT**\n",
        "\n",
        "    - 1. **Vocabulary Efficiency:** By using subwords, BERT reduces the size of the vocabulary needed to handle the vast variety of words in natural language, allowing it to work effectively with smaller datasets.\n",
        "\n",
        "    - 2. **Handling OOV Words:** Instead of failing to recognize an unknown word, WordPiece can decompose it into known subwords, enabling the model to still derive meaning from the context in which the OOV word appears.\n",
        "\n",
        "    - 3. **Improved Performance:** The subword approach allows BERT to capture semantic relationships and nuances better than traditional tokenization methods, as it can represent morphological variations of words.\n",
        "\n",
        "- **Models Using WordPiece**\n",
        "\n",
        "    - **ALBERT (A Lite BERT):** A samller & faster variant of BERT.\n",
        "\n",
        "    - **DistilBERT:** A distilled version of BERT, optimized for efficiency.\n",
        "\n",
        "    - **Electra**\n",
        "\n",
        "    - **XLNet:** A model that combined the advantages of BERT with a generalized autoregressive pretraining. "
      ]
    },
    {
      "cell_type": "markdown",
      "metadata": {},
      "source": [
        "### Part 1.3: **Comparision with BPE** <a name=\"BPE\"></a>\n"
      ]
    },
    {
      "cell_type": "markdown",
      "metadata": {},
      "source": [
        "#### **WordPiece Tokenization**"
      ]
    },
    {
      "cell_type": "markdown",
      "metadata": {},
      "source": [
        "- **Merging Strategy:** WordPiece selects the most common subword tokens based on their frequency in the training corpus. This process ensures that common words or subword forms are prioritized, making it easier for the model to understand contextual meanings.\n",
        "\n",
        "- **Contextual Awareness:** The tokenization process is designed to capture subword-level semantics, which can help in languages with rich morphology, where different forms of a word may carry different meanings.\n",
        "\n",
        "- **Training Dependency:** WordPiece requires a substantial amount of training data to create a comprehensive vocabulary. This makes it particularly effective in scenarios where extensive text data is available.\n",
        "\n",
        "- **Performance:** Models using WordPiece, like BERT, often outperform those using simpler tokenization techniques, especially on tasks requiring deeper contextual understanding, such as sentiment analysis, named entity recognition, and question answering."
      ]
    },
    {
      "cell_type": "markdown",
      "metadata": {},
      "source": [
        "#### **Byte Pair Encoding (BPE)**"
      ]
    },
    {
      "cell_type": "markdown",
      "metadata": {},
      "source": [
        "- **Merging Pairs:** BPE works by identifying the most frequently occurring pairs of characters in a text and merging them iteratively. This continues until a specified vocabulary size is reached, leading to a vocabulary that reflects the most common patterns.\n",
        "\n",
        "- **Simplicity:** The algorithm is straightforward to implement, which makes it appealing for many NLP applications. It does not require extensive language-specific adjustments, allowing it to be easily applied to various languages.\n",
        "\n",
        "- **Flexibility:** While BPE can adapt to different languages, its tokenization may lead to less semantically meaningful subwords, especially in languages with complex morphology, where meaning might be lost.\n",
        "\n",
        "- **Performance:** BPE has shown to be effective in general-purpose language models, such as GPT-2 and RoBERTa, but may not capture the nuanced semantic relationships as effectively as WordPiece does in tasks requiring high levels of contextual understanding."
      ]
    },
    {
      "cell_type": "markdown",
      "metadata": {},
      "source": [
        "### Part 2.1: **Train Wordpiece Tokenizer on Ferdowsi** <a name=\"Ferdowsi_Tokenizatoin\"></a>\n"
      ]
    },
    {
      "cell_type": "code",
      "execution_count": 1,
      "metadata": {},
      "outputs": [],
      "source": [
        "import os \n",
        "import re\n",
        "import random\n",
        "import math\n",
        "import numpy as np\n",
        "import codecs\n",
        "from itertools import product\n",
        "from __future__ import unicode_literals\n",
        "from typing import Dict, List, Union\n",
        "from collections import Counter\n",
        "import tqdm\n",
        "import tokenizer\n",
        "import nltk\n",
        "from tokenizers import Tokenizer, models, trainers, BertWordPieceTokenizer\n",
        "from hazm import *\n",
        "from hazm import Normalizer\n",
        "from PersianG2p import Persian_g2p_converter"
      ]
    },
    {
      "cell_type": "code",
      "execution_count": 2,
      "metadata": {},
      "outputs": [],
      "source": [
        "Ferdowsi_Path = rXXX\n",
        "Normalized_ferdowsi_path = rXXX\n",
        "tokenizer_model_path =  rXXX"
      ]
    },
    {
      "cell_type": "markdown",
      "metadata": {},
      "source": [
        "#### Information extraction from Data & Analysis"
      ]
    },
    {
      "cell_type": "code",
      "execution_count": 3,
      "metadata": {},
      "outputs": [],
      "source": [
        "def load_and_analyze_dataset(file_path: str) -> Dict[str, Union[int, List[str], Dict[str, Union[int, List[int]]]]]:\n",
        "    with open(file_path, 'r', encoding='utf-8') as file:\n",
        "        text = file.read()\n",
        "    lines = text.split('\\n')\n",
        "    num_lines = len(lines)\n",
        "    stanzas = text.split('\\n\\n')\n",
        "    num_stanzas = len(stanzas)\n",
        "    line_word_counts = []\n",
        "    max_words_in_line = 0\n",
        "    total_sentences = 0\n",
        "    for line in lines:\n",
        "        line = line.strip()\n",
        "        words = line.split()\n",
        "        line_word_counts.append(len(words))\n",
        "        max_words_in_line = max(max_words_in_line, len(words))\n",
        "        total_sentences += len(re.findall(r'[؛.!؟]', line))\n",
        "    num_chars = len(text)\n",
        "    preview_text = text[:1500] \n",
        "\n",
        "    return {\n",
        "        'num_lines': num_lines,\n",
        "        'num_stanzas': num_stanzas,\n",
        "        'num_chars': num_chars,\n",
        "        'preview_text': preview_text,\n",
        "        'line_word_counts': line_word_counts,\n",
        "        'max_words_in_line': max_words_in_line,\n",
        "        'total_sentences': total_sentences,\n",
        "        'full_text': text\n",
        "    }"
      ]
    },
    {
      "cell_type": "markdown",
      "metadata": {},
      "source": [
        "#### Load and analyze the dataset\n"
      ]
    },
    {
      "cell_type": "code",
      "execution_count": 4,
      "metadata": {},
      "outputs": [
        {
          "name": "stdout",
          "output_type": "stream",
          "text": [
            "Number of lines: 99219\n",
            "Number of characters: 2653849\n",
            "Maximum number of words in any line: 11\n"
          ]
        }
      ],
      "source": [
        "dataset_info = load_and_analyze_dataset(Ferdowsi_Path)\n",
        "print(f\"Number of lines: {dataset_info['num_lines']}\")\n",
        "print(f\"Number of characters: {dataset_info['num_chars']}\")\n",
        "print(f\"Maximum number of words in any line: {dataset_info['max_words_in_line']}\")"
      ]
    },
    {
      "cell_type": "code",
      "execution_count": 5,
      "metadata": {},
      "outputs": [
        {
          "name": "stdout",
          "output_type": "stream",
          "text": [
            "Preview of the text:\n",
            "|به نام خداوند جان و خرد\n",
            "|کزین برتر اندیشه برنگذرد\n",
            "|خداوند نام و خداوند جای\n",
            "|خداوند روزی ده رهنمای\n",
            "|خداوند کیوان و گردان سپهر\n",
            "|فروزنده ماه و ناهید و مهر\n",
            "|ز نام و نشان و گمان برترست\n",
            "|نگارندهٔ بر شده پیکرست\n",
            "|به بینندگان آفریننده را\n",
            "|نبینی مرنجان دو بیننده را\n",
            "|نیابد بدو نیز اندیشه راه\n",
            "|که او برتر از نام و از جایگاه\n",
            "|سخن هر چه زین گوهران بگذرد\n",
            "|نیابد بدو راه جان و خرد\n",
            "|خرد گر سخن برگزیند همی\n",
            "|همان را گزیند که بیند همی\n",
            "|ستودن نداند کس او را چو هست\n",
            "|میان بندگی را ببایدت بست\n",
            "|خرد را و جان را همی سنجد اوی\n",
            "|در اندیشهٔ سخته کی گنجد اوی\n",
            "|بدین آلت رای و جان و زبان\n",
            "|ستود آفریننده را کی توان\n",
            "|به هستیش باید که خستو شوی\n",
            "|ز گفتار بی‌کار یکسو شوی\n",
            "|پرستنده باشی و جوینده راه\n",
            "|به ژرفی به فرمانش کردن نگاه\n",
            "|توانا بود هر که دانا بود\n",
            "|ز دانش دل پیر برنا بود\n",
            "|از این پرده برتر سخن‌گاه نیست\n",
            "|ز هستی مر اندیشه را راه نیست\n",
            "|کنون ای خردمند وصف خرد\n",
            "|بدین جایگه گفتن اندرخورد\n",
            "|کنون تا چه داری بیار از خرد\n",
            "|که گوش نیوشنده زو برخورد\n",
            "|خرد بهتر از هر چه ایزد بداد\n",
            "|ستایش خرد را به از راه داد\n",
            "|خرد رهنمای و خرد دلگشای\n",
            "|خرد دست گیرد به هر دو سرای\n",
            "|ازو شادمانی وزویت غمیست\n",
            "|وزویت فزونی وزویت کمیست\n",
            "|خرد تیره و مرد روشن روان\n",
            "|نباشد همی شادمان یک زمان\n",
            "|چه گفت آن خردمند مرد خرد\n",
            "|که دانا ز گفتار از برخورد\n",
            "|کسی کو خرد را ندارد ز پیش\n",
            "|دلش گردد از کردهٔ خویش ریش\n",
            "|هشیوار دیوانه خواند ورا\n",
            "|همان خویش بیگانه داند ورا\n",
            "|ازویی به هر دو سرای ارجمند\n",
            "|گسسته خرد پای دارد ببند\n",
            "|خرد چشم جانست چون بنگری\n",
            "|تو بی‌چشم شادان جهان نسپری\n",
            "|نخست آفرینش خرد را شناس\n",
            "|نگهبان جانست و آن سه پاس\n",
            "|سه پاس تو چشم است وگوش و زبان\n",
            "|کزین سه رسد نیک و بد بی‌گمان\n",
            "|\n"
          ]
        }
      ],
      "source": [
        "print(\"Preview of the text:\")\n",
        "print(dataset_info['preview_text'])"
      ]
    },
    {
      "cell_type": "code",
      "execution_count": 6,
      "metadata": {},
      "outputs": [],
      "source": [
        "def persian_normalizer(line: str) -> str:\n",
        "    space_pattern = re.compile(r\"[\\xad\\ufeff\\u200e\\u200d\\u200b\\x7f\\u202a\\u2003\\xa0\\u206e\\u200c\\x9d]\")\n",
        "    line = space_pattern.sub(\" \", line)\n",
        "    deleted_pattern = re.compile(r\"(\\d|[\\|\\[\\]]|\\\"|'ٍ|[0-9]|¬|[a-zA-Z]|[؛“،,”‘۔’’‘–]|[\\.÷+:\\-?»={}*«_…\\؟!/ـ]|[۲۹۱۷۸۵۶۴۴۳]|[\\\\u\\\\x]|[\\(\\)]|[۰'ٓ۫'ٔ]|[ٓٔ]|[ًٌٍْﹼ،َُِّ«ٰ»ٖء]|\\[\\])\")\n",
        "    line = deleted_pattern.sub(\"\", line)\n",
        "    letter_dict = {\n",
        "        u\"ۀ\": u\"ه\", u\"ة\": u\"ت\", u\"ي\": u\"ی\", u\"ؤ\": u\"و\", u\"إ\": u\"ا\", u\"ٹ\": u\"ت\", \n",
        "        u\"ڈ\": u\"د\", u\"ئ\": u\"ی\", u\"ﻨ\": u\"ن\", u\"ﺠ\": u\"ج\", u\"ﻣ\": u\"م\", u\"ﷲ\": u\"\", \n",
        "        u\"ﻳ\": u\"ی\", u\"ٻ\": u\"ب\", u\"ٱ\": u\"ا\", u\"ڵ\": u\"ل\", u\"ﭘ\": u\"پ\", u\"ﻪ\": u\"ه\", \n",
        "        u\"ں\": u\"ن\", u\"ٶ\": u\"و\", u\"ٲ\": u\"ا\", u\"ہ\": u\"ه\", u\"ﻩ\": u\"ه\", u\"ك\": u\"ک\", \n",
        "        u\"ﺆ\": u\"و\", u\"أ\": u\"ا\", u\"ﺪ\": u\"د\"}\n",
        "    letter_pattern = re.compile(r\"(\" + \"|\".join(letter_dict.keys()) + r\")\")\n",
        "    line = letter_pattern.sub(lambda x: letter_dict[x.group()], line)\n",
        "    return line"
      ]
    },
    {
      "cell_type": "code",
      "execution_count": 7,
      "metadata": {},
      "outputs": [],
      "source": [
        "normalizer = Normalizer()"
      ]
    },
    {
      "cell_type": "code",
      "execution_count": 8,
      "metadata": {},
      "outputs": [],
      "source": [
        "def apply_all_normalizations(line: str) -> str:\n",
        "    line = normalizer.correct_spacing(line)\n",
        "    line = normalizer.remove_diacritics(line)\n",
        "    line = normalizer.decrease_repeated_chars(line)\n",
        "    line = normalizer.persian_number(line)\n",
        "    line = persian_normalizer(line)\n",
        "    return line"
      ]
    },
    {
      "cell_type": "code",
      "execution_count": 9,
      "metadata": {},
      "outputs": [
        {
          "name": "stdout",
          "output_type": "stream",
          "text": [
            "Data has been normalized and combined, saved to: D:\\\\UT\\\\Courses\\\\NLP\\\\2024-Fall\\\\NLP_Dr_Faili\\\\HWs\\\\HW1\\\\HDA\\\\Data\\\\Data_Out\\\\Normalized_ferdowsi.txt\n"
          ]
        }
      ],
      "source": [
        "def normalize_and_combine_lines(input_path: str, output_path: str):\n",
        "    with open(input_path, 'r', encoding='utf8') as f, open(output_path, 'w', encoding='utf8') as out_f:\n",
        "        lines = f.readlines()\n",
        "        cleaned_lines = [apply_all_normalizations(line.strip()) for line in lines if line.strip()]\n",
        "        combined_lines = [cleaned_lines[i] + \" | \" + cleaned_lines[i + 1] + \" |\" for i in range(0, len(cleaned_lines) - 1, 2)]\n",
        "        for line in combined_lines:\n",
        "            out_f.write(line + '\\n')\n",
        "normalize_and_combine_lines(Ferdowsi_Path, Normalized_ferdowsi_path)\n",
        "print(f\"Data has been normalized and combined, saved to: {Normalized_ferdowsi_path}\")"
      ]
    },
    {
      "cell_type": "code",
      "execution_count": 10,
      "metadata": {},
      "outputs": [
        {
          "name": "stderr",
          "output_type": "stream",
          "text": [
            "100%|██████████| 49609/49609 [00:00<00:00, 5441013.21it/s]\n"
          ]
        }
      ],
      "source": [
        "mesra_collection = [x.strip() for x in tqdm.tqdm(codecs.open(Normalized_ferdowsi_path, 'r', 'utf-8').readlines())]"
      ]
    },
    {
      "cell_type": "code",
      "execution_count": 11,
      "metadata": {},
      "outputs": [],
      "source": [
        "def HDA_Remove_Items(test_list, item):\n",
        "    return [i for i in test_list if i != item]\n",
        "mesra_collection = HDA_Remove_Items(mesra_collection, [])"
      ]
    },
    {
      "cell_type": "code",
      "execution_count": 12,
      "metadata": {},
      "outputs": [],
      "source": [
        "tokenizer = BertWordPieceTokenizer(clean_text=False, strip_accents=False, lowercase=False)\n",
        "tokenizer.train(files=[Normalized_ferdowsi_path], vocab_size=7500, min_frequency=2, show_progress=True)\n",
        "tokenizer.save(tokenizer_model_path)"
      ]
    },
    {
      "cell_type": "code",
      "execution_count": 13,
      "metadata": {},
      "outputs": [],
      "source": [
        "with open(Normalized_ferdowsi_path, 'r', encoding='utf-8') as file:\n",
        "    normalized_text = file.readlines()"
      ]
    },
    {
      "cell_type": "code",
      "execution_count": 14,
      "metadata": {},
      "outputs": [
        {
          "name": "stdout",
          "output_type": "stream",
          "text": [
            "Original Examples:\n",
            "\n",
            "Original: به نام خداوند جان و خرد | کزین برتر اندیشه برنگذرد |\n",
            "--------------------------------------------------\n",
            "Original: خداوند نام و خداوند جای | خداوند روزی ده رهنمای |\n",
            "--------------------------------------------------\n",
            "Original: خداوند کیوان و گردان سپهر | فروزنده ماه و ناهید و مهر |\n",
            "--------------------------------------------------\n",
            "Original: ز نام و نشان و گمان برترست | نگارنده بر شده پیکرست |\n",
            "--------------------------------------------------\n",
            "Original: به بینندگان آفریننده را | نبینی مرنجان دو بیننده را |\n",
            "--------------------------------------------------\n"
          ]
        }
      ],
      "source": [
        "print(\"Original Examples:\\n\")\n",
        "for i in range(5):\n",
        "    print(f\"Original: {normalized_text[i].strip()}\\n{'-' * 50}\")"
      ]
    },
    {
      "cell_type": "code",
      "execution_count": 15,
      "metadata": {},
      "outputs": [],
      "source": [
        "sample_poems = [\n",
        "    \"به نام خداوند جان و خرد\",\n",
        "    \"که از این برتر اندیشه برنگذرد\",\n",
        "    \"سر مردمی بردباری بود\",\n",
        "    \"سبک سر همیشه به خواری بود\",\n",
        "    \"به نزد کهان و به نزد مهان\",\n",
        "    \"به اذیت موری نیرزد جهان\",\n",
        "    \"به رنچ است ای خردمند گنج\",\n",
        "    \"نیابد کسی گنح نابرده رنج\",\n",
        "    \"ای شاهد قدسی، که کشد بند نقابت؟\",\n",
        "    \"وی مرغ بهشتی، که دهد دانه و آبت؟\",\n",
        "    \"خوابم بشد از دیده در این فکر جگرسوز\",\n",
        "    \"کآغوش که شد منزل آسایش و خوابت؟\",\n",
        "    \"درویش نمی‌پرسی و ترسم که نباشد\",\n",
        "    \"ترا دانش و دین رهاند درست\",\n",
        "    \"در رستگاری ببایدت جست\",\n",
        "    \"وگر دل نخواهی که باشد نژند\",\n",
        "    \"نخواهی که دایم بوی مستمند\",\n",
        "    \"به گفتار پیغمبرت راه جوی\",\n",
        "    \"دل از تیرگیها بدین آب شوی\",\n",
        "    \"چه گفت آن خداوند تنزیل و وحی\",\n",
        "    \"بیاراست گیتی چو باغ بهار\",\n",
        "    \"خرد رهنمای و خرد دلگشای\",\n",
        "    \"خرد دست گیرد به هر دو سرای\",\n",
        "]"
      ]
    },
    {
      "cell_type": "code",
      "execution_count": 16,
      "metadata": {},
      "outputs": [
        {
          "name": "stdout",
          "output_type": "stream",
          "text": [
            "Original text: به نام خداوند جان و خرد\n",
            "Tokens: ['به', 'نام', 'خداوند', 'جان', 'و', 'خرد']\n",
            "--------------------------------------------------\n",
            "Original text: که از این برتر اندیشه برنگذرد\n",
            "Tokens: ['که', 'از', 'این', 'برتر', 'اندیشه', 'برنگذرد']\n",
            "--------------------------------------------------\n",
            "Original text: سر مردمی بردباری بود\n",
            "Tokens: ['سر', 'مردمی', 'بردباری', 'بود']\n",
            "--------------------------------------------------\n",
            "Original text: سبک سر همیشه به خواری بود\n",
            "Tokens: ['سبک', 'سر', 'همیشه', 'به', 'خواری', 'بود']\n",
            "--------------------------------------------------\n",
            "Original text: به نزد کهان و به نزد مهان\n",
            "Tokens: ['به', 'نزد', 'کهان', 'و', 'به', 'نزد', 'مهان']\n",
            "--------------------------------------------------\n",
            "Original text: به اذیت موری نیرزد جهان\n",
            "Tokens: ['به', 'ا', '##ذ', '##ی', '##ت', 'مور', '##ی', 'نیرزد', 'جهان']\n",
            "--------------------------------------------------\n",
            "Original text: به رنچ است ای خردمند گنج\n",
            "Tokens: ['به', 'ر', '##ن', '##چ', 'است', 'ای', 'خردمند', 'گنج']\n",
            "--------------------------------------------------\n",
            "Original text: نیابد کسی گنح نابرده رنج\n",
            "Tokens: ['نیابد', 'کسی', 'گ', '##ن', '##ح', 'نابرده', 'رنج']\n",
            "--------------------------------------------------\n",
            "Original text: ای شاهد قدسی، که کشد بند نقابت؟\n",
            "Tokens: ['ای', 'شاه', '##د', 'قد', '##سی', '[UNK]', 'که', 'کشد', 'بند', 'نق', '##اب', '##ت', '[UNK]']\n",
            "--------------------------------------------------\n",
            "Original text: وی مرغ بهشتی، که دهد دانه و آبت؟\n",
            "Tokens: ['وی', 'مرغ', 'بهشتی', '[UNK]', 'که', 'دهد', 'دانه', 'و', 'آبت', '[UNK]']\n",
            "--------------------------------------------------\n",
            "Original text: خوابم بشد از دیده در این فکر جگرسوز\n",
            "Tokens: ['خواب', '##م', 'بشد', 'از', 'دیده', 'در', 'این', 'ف', '##کر', 'جگر', '##سوز']\n",
            "--------------------------------------------------\n",
            "Original text: کآغوش که شد منزل آسایش و خوابت؟\n",
            "Tokens: ['کآ', '##غ', '##وش', 'که', 'شد', 'منزل', 'آسایش', 'و', 'خواب', '##ت', '[UNK]']\n",
            "--------------------------------------------------\n",
            "Original text: درویش نمی‌پرسی و ترسم که نباشد\n",
            "Tokens: ['درویش', '[UNK]', 'و', 'ترسم', 'که', 'نباشد']\n",
            "--------------------------------------------------\n",
            "Original text: ترا دانش و دین رهاند درست\n",
            "Tokens: ['ترا', 'دانش', 'و', 'دین', 'رهاند', 'درست']\n",
            "--------------------------------------------------\n",
            "Original text: در رستگاری ببایدت جست\n",
            "Tokens: ['در', 'رست', '##گار', '##ی', 'ببایدت', 'جست']\n",
            "--------------------------------------------------\n",
            "Original text: وگر دل نخواهی که باشد نژند\n",
            "Tokens: ['وگر', 'دل', 'نخواهی', 'که', 'باشد', 'نژند']\n",
            "--------------------------------------------------\n",
            "Original text: نخواهی که دایم بوی مستمند\n",
            "Tokens: ['نخواهی', 'که', 'د', '##ایم', 'بوی', 'مستمند']\n",
            "--------------------------------------------------\n",
            "Original text: به گفتار پیغمبرت راه جوی\n",
            "Tokens: ['به', 'گفتار', 'پیغمبر', '##ت', 'راه', 'جوی']\n",
            "--------------------------------------------------\n",
            "Original text: دل از تیرگیها بدین آب شوی\n",
            "Tokens: ['دل', 'از', 'تیرگیها', 'بدین', 'آب', 'شوی']\n",
            "--------------------------------------------------\n",
            "Original text: چه گفت آن خداوند تنزیل و وحی\n",
            "Tokens: ['چه', 'گفت', 'آن', 'خداوند', 'تن', '##زی', '##ل', 'و', 'و', '##ح', '##ی']\n",
            "--------------------------------------------------\n",
            "Original text: بیاراست گیتی چو باغ بهار\n",
            "Tokens: ['بیاراست', 'گیتی', 'چو', 'باغ', 'بهار']\n",
            "--------------------------------------------------\n",
            "Original text: خرد رهنمای و خرد دلگشای\n",
            "Tokens: ['خرد', 'رهنمای', 'و', 'خرد', 'دلگشای']\n",
            "--------------------------------------------------\n",
            "Original text: خرد دست گیرد به هر دو سرای\n",
            "Tokens: ['خرد', 'دست', 'گیرد', 'به', 'هر', 'دو', 'سرای']\n",
            "--------------------------------------------------\n"
          ]
        }
      ],
      "source": [
        "for poem in sample_poems:\n",
        "    encoded = tokenizer.encode(poem)\n",
        "    tokens = encoded.tokens\n",
        "    print(f\"Original text: {poem}\")\n",
        "    print(f\"Tokens: {tokens}\")\n",
        "    print(\"-\" * 50)"
      ]
    },
    {
      "cell_type": "markdown",
      "metadata": {},
      "source": [
        "### Part 3.1: **N-Gram & Previous Tokenizer**<a name=\"NGRAM_Pre_Tok\"></a>"
      ]
    },
    {
      "cell_type": "code",
      "execution_count": 25,
      "metadata": {},
      "outputs": [],
      "source": [
        "import numpy as np\n",
        "import collections\n",
        "import random\n",
        "import itertools\n",
        "import math\n",
        "from tokenizers import BertWordPieceTokenizer\n",
        "from tqdm import tqdm"
      ]
    },
    {
      "cell_type": "code",
      "execution_count": 39,
      "metadata": {},
      "outputs": [],
      "source": [
        "import collections\n",
        "import random\n",
        "import math\n",
        "from tqdm import tqdm\n",
        "\n",
        "class Hosein_GRAM:\n",
        "    def __init__(self, tokens, order, enable_preprocessing=True, is_primary=True):\n",
        "        self.order = order\n",
        "        self.enable_preprocessing = enable_preprocessing\n",
        "        self.is_primary = is_primary\n",
        "        self.ngrams = collections.defaultdict(collections.Counter)\n",
        "        self.tokens = tokens\n",
        "        self.backoff_models = []\n",
        "\n",
        "        processed_tokens = self._preprocess_tokens(tokens) if enable_preprocessing else tokens\n",
        "\n",
        "        self._build_ngrams(processed_tokens)\n",
        "\n",
        "        if is_primary:\n",
        "            self._initialize_backoff(processed_tokens)\n",
        "\n",
        "    def _preprocess_tokens(self, tokens):\n",
        "        return ['<SOS>'] * self.order + tokens + ['<EOS>'] * self.order\n",
        "\n",
        "    def _build_ngrams(self, tokens):\n",
        "        if self.order == 1:\n",
        "            for token in tokens:\n",
        "                self.ngrams[()][token] += 1\n",
        "        else:\n",
        "            for i in range(len(tokens) - self.order):\n",
        "                window = tokens[i:i + self.order]\n",
        "                prefix = tuple(window[:-1])\n",
        "                suffix = window[-1]\n",
        "                self.ngrams[prefix][suffix] += 1\n",
        "\n",
        "    def _initialize_backoff(self, tokens):\n",
        "        for reduced_order in range(1, self.order):\n",
        "            model = Hosein_GRAM(tokens, self.order - reduced_order, self.enable_preprocessing, False)\n",
        "            self.backoff_models.append(model)\n",
        "\n",
        "    def predict_next_token(self, context):\n",
        "        context_extended = ['<SOS>'] * (self.order - 1) + context\n",
        "        context_key = tuple(context_extended[-(self.order - 1):])\n",
        "        suffixes = self.ngrams[context_key]\n",
        "        if suffixes:\n",
        "            return random.choices(list(suffixes.keys()), weights=suffixes.values())[0]\n",
        "        elif self.is_primary and self.backoff_models:\n",
        "            return self._backoff(context)\n",
        "        return \"<EOS>\"\n",
        "\n",
        "    def _backoff(self, context):\n",
        "        for model in self.backoff_models:\n",
        "            next_token = model.predict_next_token(context)\n",
        "            if next_token != \"<EOS>\":\n",
        "                return next_token\n",
        "        return \"<EOS>\"\n",
        "\n",
        "    def probability_of(self, sequence):\n",
        "        if len(sequence) < self.order:\n",
        "            return 0.000001\n",
        "\n",
        "        context = tuple(sequence[-self.order:-1])\n",
        "        token = sequence[-1]\n",
        "        if token in self.ngrams[context]:\n",
        "            return self.ngrams[context][token] / sum(self.ngrams[context].values())\n",
        "        elif self.is_primary and self.backoff_models:\n",
        "            return self._backoff_probability(sequence)\n",
        "        return 0.000001\n",
        "\n",
        "    def _backoff_probability(self, sequence):\n",
        "        for model in self.backoff_models:\n",
        "            probability = model.probability_of(sequence)\n",
        "            if probability > 0.000001:\n",
        "                return probability\n",
        "        return 0.000001\n"
      ]
    },
    {
      "cell_type": "markdown",
      "metadata": {},
      "source": [
        "### Part 3.1: **Train Model & Text Generation**<a name=\"Train_Gernerate\"></a>"
      ]
    },
    {
      "cell_type": "markdown",
      "metadata": {},
      "source": [
        "N-Gram models are a popular approach to language modeling, particularly for their simplicity and interpretability. However, as the value of N increases, several challenges arise that significantly affect the performance, efficiency, and accuracy of these models. Below is a detailed exploration of these challenges."
      ]
    },
    {
      "cell_type": "code",
      "execution_count": 40,
      "metadata": {},
      "outputs": [
        {
          "name": "stdout",
          "output_type": "stream",
          "text": [
            "Training 2-gram model...\n",
            "Training 4-gram model...\n",
            "Training 8-gram model...\n",
            "\n",
            "----------------------------------------\n",
            "\n",
            "2-gram generated text:\n",
            "سبک سر همیشه به خواری بود هامون سوی چشمه عنبر همی گفت کای کردگار | کسی کش | همه پارس گرد رزم و گشتند ومه سال بیش او کرد | براوی | چو بهرام بخشید بسیار مر اوراست | که باگفت | ز روم ایرا | ترا | بمرد | نیامد چنوی از جنگ این کس که ما در زاولستان سوی او به آب زرد | کرا خسته روزگار کهن | میانش یکی پیش رو پیش ایشان جدا کرد | پشیمان مبادی همیشه خرد بر جای کرد غارت و گر بیند بمن | چغانی که آمد به گفتار راست | چهارم چنین از برگ | چو آتش نهاده بدوش | چنین داد و پرمایه جوی را نیست رای | که دیدی تو سوکوار | سرانجام بستر بود از ایران گذشتی چه دینار بر کمند دراز | بناکام لشکر براند | بفرمود تا شب تیره کوه تا بدانست لهاک و پارسا | خجسته بدست چپش مصر اندرون سر به سر فرازد بهر تو بستن پهلوی | کسی کش و بس | همه انجمن | چو سنگ | که ما ز درد باب | پشیمانی و آن نامه یل زابلیست | ستور | یکی من\n",
            "----------------------------------------\n",
            "\n",
            "\n",
            "----------------------------------------\n",
            "\n",
            "4-gram generated text:\n",
            "سبک سر همیشه به خواری بود | گه آشتی بردباری بود | سبک سر سوی گنج آگنده کرد | ازان پس جهانجوی خسته جگر | اگر جنگ جویم چه دریا چه کوه | چو گردون بپوشید چینی حریر | ز مصری و پارسی | ز سی کرد داننده موبد چهار | وزین چار بهرام بد شهریار | درختیست خنگی همیشه به بار | ز باغ من آواره شد نامدار | برفت و بپیمود بالای شب | پر اندیشه شد زال زر | پرستنده با او یکی خوب رای | بران رو که فرمان دهد شهریار | بسازد یکی لشکر نامدار | همی گرز بارید و پولاد تیغ | چو دریا برآشفت مرد جوان | که من پور ساسانم ای پهلوان | پیام آوریدم به روشن روان | به هرمزد ناسالخورده جوان | یکی پرهنر بود و روشن روان | برآمد ترا این چنین کار چند | بنیروی یزدان و بخت بلند | ز ساند بروم و به ایران گزند | نخست اندر آیم ز خاقان چین چند با او براند | بدو گفت شاه ای خردمند پیر | منه زهر برنده بر جام شیر | بنه تیغ و بگشای ز آهن میان\n",
            "----------------------------------------\n",
            "\n",
            "\n",
            "----------------------------------------\n",
            "\n",
            "8-gram generated text:\n",
            "سبک سر همیشه به خواری بود | هرانکس که گشت ایمن او شاد شد | غم و رنج با ایمنی باد شد | توانگر تر آن کو دلی راد داشت | درم گرد کردن به دل باد داشت | اگر نیستت چیز لختی بورز | که بی چیز کس را ندارند ارز | مروت نیابد کرا چیز نیست | همان جاه نزد کسش نیز نیست | چو خشنود باشی تن آسان شوی | وگر آز ورزی هراسان شوی | نه کوشیدنی کان برآرد به رنج | روان را به پیچاند از آز گنج | ز کار زمانه میانه گزین | چو خواهی که یابی بداد آفرین | که نیک و بد اندر جهان بگذرد | زمانه دم ما همی بشمرد | که گوید کژی به از راستی | بکژی چرا دل بیاراستی | چو فرمان کنی هرچ خواهی تو راست | یکی بهر ازین پادشاهی تو راست | بدین گیتی اندر بزی شادمان | تن آسان و دور از بد بدگمان | وگر بگذری زین سرای سپنج | گه بازگشتن نباشی به رنج | نشاید کزین کم کنیم ارفزون | که زردشت گوید بزند اندرون | که هرکس که برگردد از\n",
            "----------------------------------------\n",
            "\n"
          ]
        }
      ],
      "source": [
        "with open(Normalized_ferdowsi_path, 'r', encoding='utf-8') as file:\n",
        "    text = file.read()\n",
        "tokens = tokenizer.encode(text).tokens\n",
        "ns = [2, 4, 8]\n",
        "models = []\n",
        "for n in ns:\n",
        "    print(f\"Training {n}-gram model...\")\n",
        "    model = Hosein_GRAM(tokens, n)\n",
        "    models.append(model)\n",
        "seed_text = \"سبک سر همیشه به خواری بود\".split()\n",
        "num_tokens = 200\n",
        "for model, n in zip(models, ns):\n",
        "    generated_text = seed_text[:]\n",
        "    while len(generated_text) < num_tokens:\n",
        "        next_token = model.predict_next_token(generated_text[-(n - 1):])\n",
        "        if next_token != \"[UNK]\" and next_token != \"<EOS>\":\n",
        "            generated_text.append(next_token)\n",
        "        if next_token == \"<EOS>\":\n",
        "            break\n",
        "    print(\"\\n\" + \"-\" * 40) \n",
        "    print(f\"\\n{n}-gram generated text:\")\n",
        "    print(\" \".join(generated_text).replace(\"[UNK]\", \"\").replace(\" ##\", \"\"))\n",
        "    print(\"-\" * 40 + \"\\n\") "
      ]
    },
    {
      "cell_type": "markdown",
      "metadata": {},
      "source": [
        "### Part 3.Analysis: **Analysis of Generated Text**<a name=\"Analysis_Gernerate\"></a>"
      ]
    },
    {
      "cell_type": "markdown",
      "metadata": {},
      "source": [
        "- **2-gram Model(BiGRAM)**\n",
        "\n",
        "    - The text produced by the 2-gram model appears relatively coherent but lacks logical continuity between sentences. This model, with its short-term view (considering only the previous word), struggles to produce complex and meaningful longer structures.\n",
        "\n",
        "- **4-gram Model**\n",
        "\n",
        "    - This model shows a better ability to generate text with more logical and continuous structures. Its capability to follow syntactic and grammatical rules of Persian is improved over the 2-gram model, thanks to its broader context understanding, encompassing four words.\n",
        "\n",
        "- **8-gram Model**\n",
        "\n",
        "    - The 8-gram model excels in producing fully coherent texts with deeper logical connections between sentences. It manages to generate complex structures that utilize the Persian language more effectively, indicative of its capacity to incorporate extended contextual information."
      ]
    },
    {
      "cell_type": "markdown",
      "metadata": {},
      "source": [
        "### Part 3.3: **Big N in N-GRAM & Challenges** <a name=\"Big_N_in_NGRAM\"></a>"
      ]
    },
    {
      "cell_type": "markdown",
      "metadata": {},
      "source": [
        "- 1. **Exponential Growth of N-Grams**\n",
        "    \n",
        "    - As we increase the value of N, the number of possible combinations of words (N-Grams) grows extremely fast. For example, if we have a vocabulary of 10,000 unique words, the number of possible N-Grams becomes huge as we look at longer sequences like 5-grams or 8-grams.\n",
        "    \n",
        "    - This causes two major problems:\n",
        "        - **Storage issues:** The model needs to keep track of all these N-Grams, which requires a lot of memory.\n",
        "        - **Data sparsity:** Many of these N-Grams may never appear in the dataset, or they appear only once or twice. This means we don’t have enough data to reliably estimate their probabilities.\n",
        "\n",
        "- 2. **Smoothing Difficulties**\n",
        "    \n",
        "    - Smoothing is a technique used to handle cases where some N-Grams don't appear in the training data. It helps prevent the model from assigning a zero probability to sequences it has never seen. However, as N gets larger, smoothing becomes harder to apply effectively.\n",
        "    \n",
        "    - Here’s why:\n",
        "    \n",
        "        - **More combinations:** As N increases, there are more N-Grams that need smoothing. This increases the computational cost.\n",
        "        \n",
        "        - **Less reliable adjustments:** For large N, smoothing may not make much of a difference because so many N-Grams are missing from the training data. This can lead to the model assigning probabilities that don’t reflect the true language patterns.\n",
        "\n",
        "- 3. **Increased Computational Requirements**\n",
        "    \n",
        "    - The bigger the value of N, the more resources we need to build and run the model. This affects:\n",
        "       \n",
        "        - **Time to train:** It takes much longer to process larger N-Grams because there are more sequences to count and analyze.\n",
        "\n",
        "        - **Memory usage:** Storing all these N-Grams and their probabilities in memory can quickly become impractical, especially with larger datasets.\n",
        "        \n",
        "        - **Querying speed:** When we ask the model to predict the next word, it takes longer to search through all the possible N-Grams for larger N, which slows down the process.\n",
        "\n",
        "- 4. **Data Sparsity and Overfitting**\n",
        "    - For large values of N, we run into the problem of data sparsity. This means that most of the possible N-Grams are never seen in the training data. When this happens, the model becomes too focused on memorizing the specific sequences it has seen, rather than learning the general patterns of the language. This leads to:\n",
        "        \n",
        "        - **Overfitting:** The model performs well on the training data but poorly on new, unseen text.\n",
        "        \n",
        "        - **Unreliable predictions:** Since many N-Grams don’t have enough examples in the data, the model’s predictions become less accurate.\n",
        "\n",
        "- 5. **Limited Understanding of Long-Term Dependencies**\n",
        "    \n",
        "    - While increasing N helps the model consider longer contexts, there’s a limit to how much benefit we can get. Even for large N, N-Gram models still struggle to capture long-term relationships between words that span across sentences or paragraphs. For example, in longer texts, dependencies between words far apart might be missed because the model only looks at the most recent N words.\n",
        "\n",
        "- 6. **Scalability Issues**\n",
        "    \n",
        "    - When dealing with larger datasets and higher values of N, scalability becomes a problem:\n",
        "        \n",
        "        - **Training takes longer:** Larger N-Gram models take more time to train, especially when working with huge text corpora.\n",
        "        \n",
        "        - **Slow predictions:** When we want the model to generate text or predict the next word, it takes longer to find the right N-Gram, slowing down the overall process.\n",
        "\n",
        "- 7. **Balancing Generalization and Specificity**\n",
        "    \n",
        "    - Finding the right balance between the size of N and the model’s ability to generalize is tricky:\n",
        "        \n",
        "        - **Smaller N:** If we choose a small N (like 2-grams or 3-grams), the model can capture simple patterns but might miss important longer-term relationships.\n",
        "        \n",
        "        - **Larger N:** With larger N (like 7-grams or 8-grams), the model might be too specific, remembering exact sequences rather than learning general language patterns. This reduces the model’s ability to work well on new, unseen data.\n"
      ]
    },
    {
      "cell_type": "markdown",
      "metadata": {},
      "source": [
        "### Part 4.1: **Perplexity Criterion** <a name=\"perplexity-criterion\"></a>"
      ]
    },
    {
      "cell_type": "markdown",
      "metadata": {},
      "source": [
        "- **Perplexity** is a common evaluation metric used in language models to measure how well a model predicts a sample of text. It provides an indication of how *uncertain* or *confused* a model is when making predictions about the next word in a sequence.\n",
        "\n",
        "\n",
        "- **Interpretation of Low Perplexity**\n",
        "    \n",
        "    - When a language model has **low perplexity** on a given text, it indicates:\n",
        "        \n",
        "        - The model is **confident in its predictions**. It assigns higher probabilities to the correct next word in the sequence.\n",
        "        \n",
        "        - The model is well-**aligned with the underlying structure** of the text and has learned the patterns of the language effectively.\n",
        "        \n",
        "        - It suggests that the language model can generate **fluent and coherent** text because it is less \"surprised\" by the actual next words in the sequence.\n"
      ]
    },
    {
      "cell_type": "markdown",
      "metadata": {},
      "source": [
        "### Part 4.2: **Perplexity on Hafez & Modern Poem** <a name=\"Pre_NGRAM_Compares\"> </a>"
      ]
    },
    {
      "cell_type": "code",
      "execution_count": 41,
      "metadata": {},
      "outputs": [],
      "source": [
        "def compute_text_perplexity(encoded_text, language_model):\n",
        "    filtered_text = [token for token in encoded_text if token != '[UNK]']\n",
        "    token_count = len(filtered_text) - language_model.order\n",
        "    if token_count > 0:\n",
        "        total_log_prob = 0\n",
        "        for idx in range(token_count):\n",
        "            ngram_prefix = filtered_text[idx:idx + language_model.order]\n",
        "            ngram_prob = language_model.probability_of(ngram_prefix)\n",
        "            if ngram_prob > 0:\n",
        "                total_log_prob += math.log(ngram_prob)\n",
        "            else:\n",
        "                total_log_prob += math.log(1e-7)\n",
        "        return math.exp(-total_log_prob / token_count)\n",
        "    return None\n",
        "\n"
      ]
    },
    {
      "cell_type": "code",
      "execution_count": 42,
      "metadata": {},
      "outputs": [],
      "source": [
        "def calculate_average_perplexity(file_path, description, language_model, tokenizer):\n",
        "    with open(file_path, 'r', encoding='utf-8') as file:\n",
        "        lines = [line.strip() for line in file.readlines()]\n",
        "    perplexities = []\n",
        "    for line in tqdm(lines, desc=f\"Calculate Perplexity for {description}\", total=len(lines)):\n",
        "        line = line.replace(\"\\n\", \"\").replace(\".\", \"\")\n",
        "        encoded_line = tokenizer.encode(line).tokens\n",
        "        perplexity = compute_text_perplexity(encoded_line, language_model)\n",
        "        if perplexity is not None:\n",
        "            perplexities.append(perplexity)\n",
        "    if perplexities:\n",
        "        return sum(perplexities) / len(perplexities)\n",
        "    return None"
      ]
    },
    {
      "cell_type": "code",
      "execution_count": 43,
      "metadata": {},
      "outputs": [],
      "source": [
        "hafez_path = rXXX\n",
        "modern_poet_path = rXXX"
      ]
    },
    {
      "cell_type": "markdown",
      "metadata": {},
      "source": [
        "**4-GRAM**"
      ]
    },
    {
      "cell_type": "code",
      "execution_count": 44,
      "metadata": {},
      "outputs": [],
      "source": [
        "model = models[1]"
      ]
    },
    {
      "cell_type": "markdown",
      "metadata": {},
      "source": [
        "**4-GRAM-Hafez** Perplexity"
      ]
    },
    {
      "cell_type": "code",
      "execution_count": 46,
      "metadata": {},
      "outputs": [
        {
          "name": "stderr",
          "output_type": "stream",
          "text": [
            "Calculate Perplexity for Hafez Poetry: 100%|██████████| 14063/14063 [00:01<00:00, 11534.53it/s]\n"
          ]
        },
        {
          "name": "stdout",
          "output_type": "stream",
          "text": [
            "\n",
            "Average perplexity for Hafez corpus: 5243.474487870375\n"
          ]
        }
      ],
      "source": [
        "avg_perplexity_hafez = calculate_average_perplexity(hafez_path, \"Hafez Poetry\", model, tokenizer)\n",
        "print(f\"\\nAverage perplexity for Hafez corpus: {avg_perplexity_hafez}\")"
      ]
    },
    {
      "cell_type": "markdown",
      "metadata": {},
      "source": [
        "**4-GRAM-Modern** Perplexity"
      ]
    },
    {
      "cell_type": "code",
      "execution_count": 47,
      "metadata": {},
      "outputs": [
        {
          "name": "stderr",
          "output_type": "stream",
          "text": [
            "Calculate Perplexity for Modern Poetry: 100%|██████████| 4400/4400 [00:30<00:00, 143.47it/s]"
          ]
        },
        {
          "name": "stdout",
          "output_type": "stream",
          "text": [
            "\n",
            "Average perplexity for modern poetry corpus: 1930.1075289168366\n"
          ]
        },
        {
          "name": "stderr",
          "output_type": "stream",
          "text": [
            "\n"
          ]
        }
      ],
      "source": [
        "avg_perplexity_modern = calculate_average_perplexity(modern_poet_path, \"Modern Poetry\", model, tokenizer)\n",
        "print(f\"\\nAverage perplexity for modern poetry corpus: {avg_perplexity_modern}\")"
      ]
    },
    {
      "cell_type": "markdown",
      "metadata": {},
      "source": [
        "**8-GRAM**"
      ]
    },
    {
      "cell_type": "code",
      "execution_count": 48,
      "metadata": {},
      "outputs": [],
      "source": [
        "model = models[2] "
      ]
    },
    {
      "cell_type": "markdown",
      "metadata": {},
      "source": [
        "**8-GRAM-Hafez** Perplexity"
      ]
    },
    {
      "cell_type": "code",
      "execution_count": 49,
      "metadata": {},
      "outputs": [
        {
          "name": "stderr",
          "output_type": "stream",
          "text": [
            "Calculate Perplexity for Hafez Poetry: 100%|██████████| 14063/14063 [00:00<00:00, 22495.12it/s]"
          ]
        },
        {
          "name": "stdout",
          "output_type": "stream",
          "text": [
            "\n",
            "Average perplexity for Hafez corpus: 13612.503459420896\n"
          ]
        },
        {
          "name": "stderr",
          "output_type": "stream",
          "text": [
            "\n"
          ]
        }
      ],
      "source": [
        "avg_perplexity_hafez = calculate_average_perplexity(hafez_path, \"Hafez Poetry\", model, tokenizer)\n",
        "print(f\"\\nAverage perplexity for Hafez corpus: {avg_perplexity_hafez}\")"
      ]
    },
    {
      "cell_type": "markdown",
      "metadata": {},
      "source": [
        "**4-GRAM-Modern** Perplexity"
      ]
    },
    {
      "cell_type": "code",
      "execution_count": 50,
      "metadata": {},
      "outputs": [
        {
          "name": "stderr",
          "output_type": "stream",
          "text": [
            "Calculate Perplexity for Modern Poetry: 100%|██████████| 4400/4400 [00:43<00:00, 102.30it/s]"
          ]
        },
        {
          "name": "stdout",
          "output_type": "stream",
          "text": [
            "\n",
            "Average perplexity for modern poetry corpus: 1942.6012448577587\n"
          ]
        },
        {
          "name": "stderr",
          "output_type": "stream",
          "text": [
            "\n"
          ]
        }
      ],
      "source": [
        "avg_perplexity_modern = calculate_average_perplexity(modern_poet_path, \"Modern Poetry\", model, tokenizer)\n",
        "print(f\"\\nAverage perplexity for modern poetry corpus: {avg_perplexity_modern}\")"
      ]
    },
    {
      "cell_type": "markdown",
      "metadata": {},
      "source": [
        "**BiGRAM**"
      ]
    },
    {
      "cell_type": "code",
      "execution_count": 51,
      "metadata": {},
      "outputs": [],
      "source": [
        "model = models[0] "
      ]
    },
    {
      "cell_type": "markdown",
      "metadata": {},
      "source": [
        "**BiGRAM-Hafez** Perplexity"
      ]
    },
    {
      "cell_type": "code",
      "execution_count": 52,
      "metadata": {},
      "outputs": [
        {
          "name": "stderr",
          "output_type": "stream",
          "text": [
            "Calculate Perplexity for Hafez Poetry: 100%|██████████| 14063/14063 [00:01<00:00, 9650.30it/s]"
          ]
        },
        {
          "name": "stdout",
          "output_type": "stream",
          "text": [
            "\n",
            "Average perplexity for Hafez corpus: 2770.3479519465773\n"
          ]
        },
        {
          "name": "stderr",
          "output_type": "stream",
          "text": [
            "\n"
          ]
        }
      ],
      "source": [
        "avg_perplexity_hafez = calculate_average_perplexity(hafez_path, \"Hafez Poetry\", model, tokenizer)\n",
        "print(f\"\\nAverage perplexity for Hafez corpus: {avg_perplexity_hafez}\")"
      ]
    },
    {
      "cell_type": "markdown",
      "metadata": {},
      "source": [
        "**BiGRAM-Modern** Perplexity"
      ]
    },
    {
      "cell_type": "code",
      "execution_count": 53,
      "metadata": {},
      "outputs": [
        {
          "name": "stderr",
          "output_type": "stream",
          "text": [
            "Calculate Perplexity for Modern Poetry: 100%|██████████| 4400/4400 [00:26<00:00, 163.46it/s]"
          ]
        },
        {
          "name": "stdout",
          "output_type": "stream",
          "text": [
            "\n",
            "Average perplexity for modern poetry corpus: 2007.486166396677\n"
          ]
        },
        {
          "name": "stderr",
          "output_type": "stream",
          "text": [
            "\n"
          ]
        }
      ],
      "source": [
        "avg_perplexity_modern = calculate_average_perplexity(modern_poet_path, \"Modern Poetry\", model, tokenizer)\n",
        "print(f\"\\nAverage perplexity for modern poetry corpus: {avg_perplexity_modern}\")"
      ]
    },
    {
      "cell_type": "markdown",
      "metadata": {},
      "source": [
        "### Part 4.A:**Perplexity Analysis** <a name='Anayze_Perplex'></a>\n"
      ]
    },
    {
      "cell_type": "markdown",
      "metadata": {},
      "source": [
        "- **2-GRAM** Model \n",
        "    \n",
        "    - Shows the lowest perplexity among the models, suggesting minimal confusion in next-word predictions due to its limited contextual scope.\n",
        "\n",
        "- **4-GRAM** Model \n",
        "    \n",
        "    - Displays a moderate perplexity level, balancing accuracy and confusion effectively.\n",
        "\n",
        "- **8-GRAM** Model\n",
        "    \n",
        "    - Has the highest perplexity, potentially due to the complexities involved in its training data and the need for more memory to predict subsequent words."
      ]
    },
    {
      "cell_type": "markdown",
      "metadata": {},
      "source": [
        "- **Shah-Nameh, Ferdowsi & Hafez & Modern Poetry**\n",
        "\n",
        "    - **Linguistic & Stylistic** Differences between the **epic style of Shahnameh** and the **lyrical poetry of Hafez**, which is **older** in the **Persian literary tradition** and includes **more archaic** and **Arabic-influenced vocabulary**, are profound, especially compared to **modern poetry**. \n",
        "    \n",
        "    - The **higher perplexity in Hafez's dataset** could stem from these **linguistic disparities**."
      ]
    },
    {
      "cell_type": "markdown",
      "metadata": {
        "id": "XbICV8VBYnm6"
      },
      "source": [
        "## **Chapter 3: N-Gram as a Classifier** <a name=\"Chapter-3\"></a>\n"
      ]
    },
    {
      "cell_type": "markdown",
      "metadata": {
        "id": "44h4kmk8m0vC"
      },
      "source": [
        "### Part 1.1: **N-Gram As a Classifier** <a name=\"NGRAM_Classifier\"></a>"
      ]
    },
    {
      "cell_type": "markdown",
      "metadata": {},
      "source": [
        "- **N-gram models** are typically used in language modeling, but they can also serve as a powerful tool for **text classification**. Here's how n-grams can function as a classifier:\n",
        "\n",
        "- **N-grams in Text Classification**\n",
        "    \n",
        "    In text classification tasks, the goal is to assign a label (or class) to a given text based on its content. N-grams (sequences of *n* words or tokens) capture local context within a document, making them useful features for determining the topic, sentiment, or category of the text.\n",
        "\n",
        "- **Steps to Use N-grams as a Classifier:**\n",
        "\n",
        "    - **Text Representation:**\n",
        "        \n",
        "        - First, break down the input text into n-grams (e.g., unigrams, bigrams, trigrams).\n",
        "        \n",
        "        - Each n-gram represents a feature of the text. For example, in a sentiment analysis task, common bigrams like \"not good\" or \"very happy\" can strongly indicate the sentiment.\n",
        "\n",
        "    - **Feature Extraction:**\n",
        "        \n",
        "        - Once the text is tokenized into n-grams, a vectorized representation of the document is created, often using methods like **Bag of N-grams** or **TF-IDF**. This results in a numerical vector where each dimension corresponds to the frequency or importance of a particular n-gram in the text.\n",
        "\n",
        "    - **Training the Classifier:**\n",
        "        \n",
        "        - A classifier (such as Naive Bayes, SVM, or Logistic Regression) is then trained on these n-gram features across a labeled dataset.\n",
        "        \n",
        "        - The classifier learns which n-grams are indicative of specific classes. For example, in a spam detection task, the bigram \"free money\" might be associated with the \"spam\" class.\n",
        "\n",
        "    - **Making Predictions:**\n",
        "        \n",
        "        - When classifying new texts, the n-gram-based classifier looks at the n-grams in the input and uses the learned model to predict the class label.\n",
        "        \n",
        "        - The classifier can output the probability of the text belonging to each class based on the presence or absence of specific n-grams."
      ]
    },
    {
      "cell_type": "markdown",
      "metadata": {},
      "source": [
        "### Part 1.2: **Big N & Low Data** <a name=\"bign_lowdata\"></a>"
      ]
    },
    {
      "cell_type": "markdown",
      "metadata": {},
      "source": [
        "\n",
        "- **Data Sparsity**\n",
        "    \n",
        "    - One of the most significant problems when increasing **n** in n-gram models with small datasets is **data sparsity**. As **n** increases, the number of possible n-grams grows exponentially, but the amount of available data remains fixed. This causes several issues:\n",
        "        \n",
        "        - **Fewer Observations:** Many of the larger n-grams will not appear frequently in the dataset. In extreme cases, some n-grams might not appear at all, leading to an inability to estimate probabilities for unseen n-grams.\n",
        "        \n",
        "        - **Overfitting Risk:** With more n-grams than data points, the model may overfit the small number of observed n-grams, capturing noise rather than meaningful patterns in the data.\n",
        "\n",
        "\n",
        "- **Increased Computational Complexity**\n",
        "    \n",
        "    - As **n** increases, the number of possible n-gram combinations grows exponentially. This leads to an increase in:\n",
        "        \n",
        "        - **Memory Requirements:** Storing large n-gram tables requires more memory, which becomes problematic when the dataset is small.\n",
        "        \n",
        "        - **Computational Cost:** Estimating probabilities for an increasing number of n-grams, especially with smoothing techniques, becomes computationally expensive with limited data.\n",
        "\n",
        "\n",
        "- **Poor Generalization**\n",
        "    \n",
        "    - When data is limited, increasing **n** leads to **poor generalization**. The model becomes too specific to the training data and may fail to handle unseen data effectively.\n",
        "       \n",
        "        - **Unseen N-grams:** Larger n-grams are more likely to be unseen during training. Without sufficient data, the model struggles to predict or assign probabilities to these unseen n-grams, making it less robust.\n",
        "        \n",
        "        - **Longer Dependencies:** While larger n-grams capture longer dependencies between words, this is only beneficial if the data is sufficient to observe these dependencies. With limited data, such long dependencies are rarely captured.\n",
        "\n",
        "- **Smoothing Issues**\n",
        "    \n",
        "    - With limited data, larger n-grams often result in many unseen or low-frequency n-grams. This forces the model to rely heavily on **smoothing techniques** (e.g., Laplace, Kneser-Ney), which distribute some probability mass to unseen n-grams. However, these techniques are not always perfect:\n",
        "    \n",
        "    - **Over-reliance on Smoothing:** As n-grams increase, the model may assign artificially inflated probabilities to unseen or rare n-grams, which can lead to inaccurate predictions.\n"
      ]
    },
    {
      "cell_type": "markdown",
      "metadata": {},
      "source": [
        "### Part 2.1: **BPE Tokenizer** <a name=\"BPE_Tokenizer\"></a>\n"
      ]
    },
    {
      "cell_type": "code",
      "execution_count": 14,
      "metadata": {},
      "outputs": [],
      "source": [
        "import pandas as pd\n",
        "from tokenizers import CharBPETokenizer\n",
        "from sklearn.model_selection import train_test_split\n",
        "from sklearn.metrics import confusion_matrix, accuracy_score, recall_score, precision_score\n",
        "import matplotlib.pyplot as plt\n",
        "import seaborn as sns\n",
        "from collections import defaultdict\n",
        "from tqdm import tqdm"
      ]
    },
    {
      "cell_type": "code",
      "execution_count": 15,
      "metadata": {},
      "outputs": [],
      "source": [
        "input_file_path = rXXX\n",
        "reviews_dataframe = pd.read_csv(input_file_path)\n",
        "reviews_dataframe['Enhanced_Review'] = reviews_dataframe['Text'].apply(lambda text: f\"<start> {text} <end>\")"
      ]
    },
    {
      "cell_type": "code",
      "execution_count": 16,
      "metadata": {},
      "outputs": [],
      "source": [
        "complete_text_data = '\\n'.join(reviews_dataframe['Enhanced_Review'])\n",
        "with open('training_corpus.txt', 'w', encoding='utf-8') as text_file:\n",
        "    text_file.write(complete_text_data)"
      ]
    },
    {
      "cell_type": "code",
      "execution_count": 17,
      "metadata": {},
      "outputs": [],
      "source": [
        "review_tokenizer = CharBPETokenizer()\n",
        "review_tokenizer.train(files=['training_corpus.txt'], vocab_size=5000, min_frequency=2, special_tokens=['<start>', '<end>'])"
      ]
    },
    {
      "cell_type": "markdown",
      "metadata": {},
      "source": [
        "### Part 2.2: **Tokenize the Dataset** <a name=\"Tokenize_BPE\"></a>"
      ]
    },
    {
      "cell_type": "code",
      "execution_count": 18,
      "metadata": {},
      "outputs": [],
      "source": [
        "reviews_dataframe['Tokenized_Review'] = reviews_dataframe['Enhanced_Review'].apply(lambda review: review_tokenizer.encode(review).tokens)"
      ]
    },
    {
      "cell_type": "code",
      "execution_count": 19,
      "metadata": {},
      "outputs": [],
      "source": [
        "train_data, test_data = train_test_split(reviews_dataframe, test_size=0.2, random_state=42)"
      ]
    },
    {
      "cell_type": "markdown",
      "metadata": {},
      "source": [
        "### Part 3.1: **N-GRAM & Classification** <a name=\"Classification_NGRAM\"></a>"
      ]
    },
    {
      "cell_type": "code",
      "execution_count": 20,
      "metadata": {},
      "outputs": [],
      "source": [
        "grouped_data = train_data.groupby('Suggestion')\n",
        "ngram_frequencies = defaultdict(lambda: defaultdict(int))\n",
        "for label, group in grouped_data:\n",
        "    all_tokens = [token for review in group['Tokenized_Review'] for token in review]\n",
        "    for n in [2, 3]:\n",
        "        ngrams = [tuple(all_tokens[i:i+n]) for i in range(len(all_tokens)-n+1)]\n",
        "        for ngram in ngrams:\n",
        "            ngram_frequencies[label][ngram] += 1"
      ]
    },
    {
      "cell_type": "code",
      "execution_count": 21,
      "metadata": {},
      "outputs": [],
      "source": [
        "def evaluate_probabilities(tokens, model, n):\n",
        "    ngram_probs = [model.get(tuple(tokens[i:i+n]), 0) + 1 for i in range(len(tokens) - n + 1)]\n",
        "    total_ngrams = sum(model.values()) + len(model) * (len(tokens) - n + 1)\n",
        "    return np.prod(ngram_probs) / total_ngrams"
      ]
    },
    {
      "cell_type": "markdown",
      "metadata": {},
      "source": [
        "### Part 3.2: **BiGram, TriGram** <a name=\"SplitData_32Gram\"></a>\n"
      ]
    },
    {
      "cell_type": "code",
      "execution_count": 22,
      "metadata": {},
      "outputs": [
        {
          "name": "stderr",
          "output_type": "stream",
          "text": [
            "Classifying: 100%|██████████| 653/653 [00:30<00:00, 21.42it/s]\n"
          ]
        }
      ],
      "source": [
        "for index, row in tqdm(test_data.iterrows(), total=len(test_data), desc=\"Classifying\"):\n",
        "    tokens = row['Tokenized_Review']\n",
        "    bi_gram_probs = []\n",
        "    tri_gram_probs = []\n",
        "\n",
        "    for label, freqs in ngram_frequencies.items():\n",
        "        bi_gram_prob = evaluate_probabilities(tokens, {k: v for k, v in freqs.items() if len(k) == 2}, 2)\n",
        "        tri_gram_prob = evaluate_probabilities(tokens, {k: v for k, v in freqs.items() if len(k) == 3}, 3)\n",
        "        bi_gram_probs.append(bi_gram_prob)\n",
        "        tri_gram_probs.append(tri_gram_prob)\n",
        "        \n",
        "    best_bi_class = list(ngram_frequencies.keys())[np.argmax(bi_gram_probs)]\n",
        "    best_tri_class = list(ngram_frequencies.keys())[np.argmax(tri_gram_probs)]\n",
        "    test_data.at[index, 'Predicted_Bi_Class'] = best_bi_class\n",
        "    test_data.at[index, 'Predicted_Tri_Class'] = best_tri_class\n"
      ]
    },
    {
      "cell_type": "markdown",
      "metadata": {},
      "source": [
        "### Part 3.3: **Criterion on Models** <a name=\"Criterion_Models\"></a>"
      ]
    },
    {
      "cell_type": "code",
      "execution_count": 23,
      "metadata": {},
      "outputs": [],
      "source": [
        "actual_classes = test_data['Suggestion']\n",
        "predicted_bi = test_data['Predicted_Bi_Class']\n",
        "predicted_tri = test_data['Predicted_Tri_Class']\n",
        "conf_matrix_bi = confusion_matrix(actual_classes, predicted_bi)\n",
        "conf_matrix_tri = confusion_matrix(actual_classes, predicted_tri)"
      ]
    },
    {
      "cell_type": "code",
      "execution_count": 24,
      "metadata": {},
      "outputs": [],
      "source": [
        "accuracy_bi = accuracy_score(actual_classes, predicted_bi) * 100\n",
        "accuracy_tri = accuracy_score(actual_classes, predicted_tri) * 100"
      ]
    },
    {
      "cell_type": "code",
      "execution_count": 29,
      "metadata": {},
      "outputs": [
        {
          "name": "stdout",
          "output_type": "stream",
          "text": [
            "Accuracy of 2-Gram Model: 46.09%\n",
            "Accuracy of 3-Gram Model: 58.35%\n"
          ]
        }
      ],
      "source": [
        "print(f\"Accuracy of 2-Gram Model: {accuracy_bi:.2f}%\")\n",
        "print(f\"Accuracy of 3-Gram Model: {accuracy_tri:.2f}%\")"
      ]
    },
    {
      "cell_type": "code",
      "execution_count": 25,
      "metadata": {},
      "outputs": [],
      "source": [
        "recall_bi = recall_score(actual_classes, predicted_bi, average=None)\n",
        "recall_tri = recall_score(actual_classes, predicted_tri, average=None)"
      ]
    },
    {
      "cell_type": "code",
      "execution_count": 30,
      "metadata": {},
      "outputs": [
        {
          "name": "stdout",
          "output_type": "stream",
          "text": [
            "Recall of 2-Gram Model (per class): [0.53164557 0.28125    0.26506024]\n",
            "Recall of 3-Gram Model (per class): [0.71308017 0.25       0.22891566]\n"
          ]
        }
      ],
      "source": [
        "print(f\"Recall of 2-Gram Model (per class): {recall_bi}\")\n",
        "print(f\"Recall of 3-Gram Model (per class): {recall_tri}\")"
      ]
    },
    {
      "cell_type": "code",
      "execution_count": 26,
      "metadata": {},
      "outputs": [],
      "source": [
        "precision_bi = precision_score(actual_classes, predicted_bi, average=None)\n",
        "precision_tri = precision_score(actual_classes, predicted_tri, average=None)"
      ]
    },
    {
      "cell_type": "code",
      "execution_count": 31,
      "metadata": {},
      "outputs": [
        {
          "name": "stdout",
          "output_type": "stream",
          "text": [
            "Precision of 2-Gram Model (per class): [0.74117647 0.17532468 0.13836478]\n",
            "Precision of 3-Gram Model (per class): [0.76643991 0.20168067 0.20430108]\n"
          ]
        }
      ],
      "source": [
        "print(f\"Precision of 2-Gram Model (per class): {precision_bi}\")\n",
        "print(f\"Precision of 3-Gram Model (per class): {precision_tri}\")"
      ]
    },
    {
      "cell_type": "markdown",
      "metadata": {},
      "source": [
        "### Part 3.4: **Result Analysis** <a name=\"Analysis\"></a>\n"
      ]
    },
    {
      "cell_type": "markdown",
      "metadata": {},
      "source": [
        "- **2-GRAM(BiGRAM):**\n",
        "\n",
        "    - **Accuracy:** 46.09%\n",
        "\n",
        "    - **ReCall:** \n",
        "\n",
        "        - **Class 0:** 53.16% \n",
        "    \n",
        "        - **Class 1** 28.12%\n",
        "\n",
        "        - **Class 2:** 26.51%\n",
        "\n",
        "    - **Precision:** \n",
        "\n",
        "        - **Class 0:** 74.12%\n",
        "\n",
        "        - **Class 1:** 17.53%\n",
        "\n",
        "        - **Class 2:** 13.84%\n",
        "\n",
        "\n",
        "- **3-GRAM(TriGRAM):**\n",
        "\n",
        "    - **Accuracy:** 58.35%\n",
        "\n",
        "        - An increase from 46.09% to 58.35% demonstrates the 3-Gram model's superior ability to correctly classify instances.\n",
        "\n",
        "    - **ReCall:** \n",
        "\n",
        "        - **Class 0:** 71.31% \n",
        "    \n",
        "        - **Class 1** 25.00%\n",
        "\n",
        "        - **Class 2:** 22.89%\n",
        "\n",
        "            - This model shows improvement across all classes, particularly notable in Class 0.\n",
        "    \n",
        "    - **Precision:** \n",
        "\n",
        "        - **Class 0:** 76.64%\n",
        "\n",
        "        - **Class 1:** 20.17%\n",
        "\n",
        "        - **Class 2:** 20.43%\n",
        "\n",
        "            - Improved precision metrics in the 3-Gram model indicate a higher ratio of correct predictions per class compared to the total predictions made."
      ]
    },
    {
      "cell_type": "markdown",
      "metadata": {},
      "source": [
        "**BiGRAM**"
      ]
    },
    {
      "cell_type": "code",
      "execution_count": 27,
      "metadata": {},
      "outputs": [
        {
          "data": {
            "text/plain": [
              "Text(0.5, 25.722222222222214, 'Predicted Class')"
            ]
          },
          "execution_count": 27,
          "metadata": {},
          "output_type": "execute_result"
        },
        {
          "data": {
            "image/png": "[encoded data removed]",
            "text/plain": [
              "<Figure size 1400x500 with 2 Axes>"
            ]
          },
          "metadata": {},
          "output_type": "display_data"
        }
      ],
      "source": [
        "plt.figure(figsize=(14, 5))\n",
        "plt.subplot(1, 2, 1)\n",
        "sns.heatmap(conf_matrix_bi, annot=True, fmt='d', cmap='Blues')\n",
        "plt.title('2-Gram Prediction Confusion Matrix')\n",
        "plt.ylabel('Actual Class')\n",
        "plt.xlabel('Predicted Class')"
      ]
    },
    {
      "cell_type": "markdown",
      "metadata": {},
      "source": [
        "- **Class 0:**\n",
        "    - **True Positive (TP):** 252 instances correctly predicted as class 0.\n",
        "\n",
        "    - **False Positive (FP):** 114 (classified as 1) + 108 (classified as 2) = 222 instances where class 0 was wrongly predicted.\n",
        "\n",
        "- **Class 1:**\n",
        "\n",
        "    - Given that the matrix for classes 1 and 2 aren't fully visible.\n",
        "\n",
        "- **Class 2:**\n",
        "\n",
        "    - The lighter colors in classes 1 and 2 suggest lower counts compared to class 0, indicating less accuracy."
      ]
    },
    {
      "cell_type": "markdown",
      "metadata": {},
      "source": [
        "- The model seems well-tuned to recognize features of class 0\n",
        "\n",
        "    - Higher training instances\n",
        "\n",
        "    - Distinct features that define this class in the training dataset\n",
        "\n",
        "- High False Positives for class 0\n",
        "\n",
        "    - Many instances belonging to other classes are incorrectly identified as class 0\n",
        "\n",
        "    - impacts on classes 1 and 2\n",
        "\n",
        "    - Need to cleaning the data and balancing but we want to learn N-Gram how classifying :) "
      ]
    },
    {
      "cell_type": "markdown",
      "metadata": {},
      "source": [
        "**TriGRAM**"
      ]
    },
    {
      "cell_type": "code",
      "execution_count": 28,
      "metadata": {},
      "outputs": [
        {
          "data": {
            "image/png": "[encoded data removed]",
            "text/plain": [
              "<Figure size 1400x500 with 2 Axes>"
            ]
          },
          "metadata": {},
          "output_type": "display_data"
        }
      ],
      "source": [
        "plt.figure(figsize=(14,5))\n",
        "plt.subplot(1, 2, 2)\n",
        "sns.heatmap(conf_matrix_tri, annot=True, fmt='d', cmap='Blues')\n",
        "plt.title('3-Gram Prediction Confusion Matrix')\n",
        "plt.ylabel('Actual Class')\n",
        "plt.xlabel('Predicted Class')\n",
        "plt.show()"
      ]
    },
    {
      "cell_type": "markdown",
      "metadata": {},
      "source": [
        "- Tri-Gram model has shown greater efficacy in correctly classifying different classes, especially noticeable in Class 0, where the number of correct identifications is substantially higher."
      ]
    },
    {
      "cell_type": "markdown",
      "metadata": {},
      "source": [
        "- **Class 0:**\n",
        "    \n",
        "    - **True Positive (TP):** 338 instances correctly predicted as class 0.\n",
        "    \n",
        "    - **False Positive (FP):** 78 (classified as 1) + 58 (classified as 2) = 136 instances where class 0 was wrongly predicted.\n",
        "\n",
        "- **Class 1 & 2:**\n",
        "    \n",
        "    - For classes 1 and 2, the exact number of TP is not visible but the lighter shades indicate fewer correctly classified instances compared to class 0."
      ]
    },
    {
      "cell_type": "markdown",
      "metadata": {},
      "source": [
        "- **Using N-gram models instead of classifiers with many parameters**\n",
        "\n",
        "    - **Limited Data:** When training data are scarce, simpler models like N-grams might perform better due to their uncomplicated nature.\n",
        "\n",
        "    - **Need for Speed:** N-gram models, due to their simpler structure, usually compute faster than deep learning models.\n",
        "\n",
        "    - **Resource Constraints:** In environments with Limited Resources such as Mobile Devices.\n"
      ]
    },
    {
      "cell_type": "markdown",
      "metadata": {},
      "source": [
        "## **Chapter 4: Image tokenization** <a name=\"Chapter-4\"></a>"
      ]
    },
    {
      "cell_type": "markdown",
      "metadata": {},
      "source": [
        "### Part 1.1: **Image Tokenization & Vision Transformer** <a name=\"IT_VT\"></a>"
      ]
    },
    {
      "cell_type": "markdown",
      "metadata": {},
      "source": [
        "- **Tokenization in Vision Transformers (ViT)**\n",
        "\n",
        "- **How Images are Tokenized in Vision Transformers (ViT)**\n",
        "\n",
        "    - In ViT, images are processed in a way that's similar to how language models handle text. Instead of looking at the whole image at once like traditional models (CNNs), ViT breaks the image into smaller patches — imagine cutting a picture into small squares, like 16x16 pixel pieces. Each of these patches is treated like a \"word\" in a sentence.\n",
        "\n",
        "    - These patches are then flattened into 1D vectors and passed through a layer that reduces their dimensionality. This step creates \"tokens\" out of the patches, which is just a way of turning each patch into a format the transformer can understand. Just like a sentence is made of word tokens, the image is now made up of patch tokens.\n",
        "\n",
        "    - Since transformers don't know the position of each patch, we add positional information to tell the model where each patch belongs in the image. This is like giving each patch an address so the model knows where it came from.\n",
        "\n",
        "    - we also add a special classification token [CLS] at the beginning of the sequence.\n",
        "\n",
        "    - This method allows the ViT to capture global information from the entire image by focusing on the relationships between different patches, similar to how transformers capture relationships between words in a sentence."
      ]
    },
    {
      "cell_type": "markdown",
      "metadata": {},
      "source": [
        "### Part 1.2: **MNIST & KMeans** <a name=\"Kmeans\"></a>"
      ]
    },
    {
      "cell_type": "code",
      "execution_count": 17,
      "metadata": {},
      "outputs": [],
      "source": [
        "import numpy as np\n",
        "import tensorflow as tf\n",
        "from sklearn.cluster import KMeans\n",
        "from sklearn.metrics import accuracy_score\n",
        "import matplotlib.pyplot as plt\n",
        "from collections import defaultdict, Counter\n",
        "import random\n",
        "from sklearn.datasets import fetch_openml"
      ]
    },
    {
      "cell_type": "code",
      "execution_count": 18,
      "metadata": {},
      "outputs": [],
      "source": [
        "def load_mnist_data():\n",
        "    mnist = fetch_openml('mnist_784', version=1)\n",
        "    data = mnist.data.values.reshape(-1, 28, 28, 1).astype('float32') / 255\n",
        "    labels = mnist.target.astype('int')\n",
        "    return (data[:60000], labels[:60000]), (data[60000:], labels[60000:])"
      ]
    },
    {
      "cell_type": "code",
      "execution_count": 20,
      "metadata": {},
      "outputs": [],
      "source": [
        "def extract_patches(data, patch_size=9, stride=9):\n",
        "    patches = tf.image.extract_patches(images=data, sizes=[1, patch_size, patch_size, 1], strides=[1, stride, stride, 1], rates=[1, 1, 1, 1], padding='VALID')\n",
        "    reshaped_patches = tf.reshape(patches, [-1, patch_size * patch_size]).numpy()\n",
        "    return reshaped_patches, patches.shape[1] * patches.shape[2] "
      ]
    },
    {
      "cell_type": "code",
      "execution_count": 21,
      "metadata": {},
      "outputs": [],
      "source": [
        "def train_kmeans(patches, n_clusters=256):\n",
        "    kmeans = KMeans(n_clusters=n_clusters, random_state=42)\n",
        "    kmeans.fit(patches)\n",
        "    return kmeans"
      ]
    },
    {
      "cell_type": "code",
      "execution_count": 22,
      "metadata": {},
      "outputs": [],
      "source": [
        "def tokenize_with_kmeans(patches, kmeans):\n",
        "    tokens = kmeans.predict(patches)\n",
        "    return tokens"
      ]
    },
    {
      "cell_type": "code",
      "execution_count": 23,
      "metadata": {},
      "outputs": [],
      "source": [
        "def train_ngram_model(tokens, labels, patches_per_image, n=4):\n",
        "    model = defaultdict(Counter)\n",
        "    for i in range(0, len(tokens) - n + 1, patches_per_image):\n",
        "        for j in range(patches_per_image - n + 1):\n",
        "            context = tuple(tokens[i + j:i + j + n])\n",
        "            label = labels[i // patches_per_image]  \n",
        "            model[context][label] += 1\n",
        "    print(\"N-gram model trained.\")\n",
        "    return model"
      ]
    },
    {
      "cell_type": "markdown",
      "metadata": {},
      "source": [
        "### Part 2.1: **4-GRAM** <a name=\"4Gram_Image\"></a>"
      ]
    },
    {
      "cell_type": "code",
      "execution_count": 24,
      "metadata": {},
      "outputs": [],
      "source": [
        "def predict_with_ngram(context, model):\n",
        "    context_tuple = tuple(context)\n",
        "    if context_tuple in model:\n",
        "        prediction = max(model[context_tuple], key=model[context_tuple].get)\n",
        "    else:\n",
        "        prediction = random.choice(range(10))  \n",
        "    return prediction"
      ]
    },
    {
      "cell_type": "code",
      "execution_count": 25,
      "metadata": {},
      "outputs": [],
      "source": [
        "def aggregate_predictions(test_tokens, ngram_model, patches_per_image, n=4):\n",
        "    image_predictions = []\n",
        "    for i in range(0, len(test_tokens), patches_per_image):\n",
        "        image_patches = test_tokens[i:i + patches_per_image]\n",
        "        patch_predictions = [predict_with_ngram(image_patches[j:j + n], ngram_model) for j in range(patches_per_image - n + 1)]\n",
        "        most_common_prediction = Counter(patch_predictions).most_common(1)[0][0]\n",
        "        image_predictions.append(most_common_prediction)\n",
        "    return image_predictions"
      ]
    },
    {
      "cell_type": "code",
      "execution_count": 26,
      "metadata": {},
      "outputs": [],
      "source": [
        "(train_data, train_labels), (test_data, test_labels) = load_mnist_data()"
      ]
    },
    {
      "cell_type": "code",
      "execution_count": 27,
      "metadata": {},
      "outputs": [],
      "source": [
        "train_patches, patches_per_image_train = extract_patches(train_data)\n",
        "test_patches, patches_per_image_test = extract_patches(test_data)"
      ]
    },
    {
      "cell_type": "code",
      "execution_count": 28,
      "metadata": {},
      "outputs": [],
      "source": [
        "kmeans = train_kmeans(train_patches)"
      ]
    },
    {
      "cell_type": "code",
      "execution_count": 29,
      "metadata": {},
      "outputs": [],
      "source": [
        "train_tokens = tokenize_with_kmeans(train_patches, kmeans)\n",
        "test_tokens = tokenize_with_kmeans(test_patches, kmeans)"
      ]
    },
    {
      "cell_type": "code",
      "execution_count": 30,
      "metadata": {},
      "outputs": [
        {
          "name": "stdout",
          "output_type": "stream",
          "text": [
            "N-gram model trained.\n"
          ]
        }
      ],
      "source": [
        "ngram_model = train_ngram_model(train_tokens, train_labels, patches_per_image_train)"
      ]
    },
    {
      "cell_type": "code",
      "execution_count": 31,
      "metadata": {},
      "outputs": [],
      "source": [
        "image_predictions = aggregate_predictions(test_tokens, ngram_model, patches_per_image_test)"
      ]
    },
    {
      "cell_type": "code",
      "execution_count": 32,
      "metadata": {},
      "outputs": [],
      "source": [
        "test_labels = np.array(test_labels)\n",
        "assert len(test_labels) == len(image_predictions), \"Mismatched lengths between test labels and predictions.\""
      ]
    },
    {
      "cell_type": "markdown",
      "metadata": {},
      "source": [
        "### Part 2.2: **Accuracy** <a name=\"accuracy\"></a>"
      ]
    },
    {
      "cell_type": "code",
      "execution_count": 33,
      "metadata": {},
      "outputs": [
        {
          "name": "stdout",
          "output_type": "stream",
          "text": [
            "Model accuracy: 71.52%\n"
          ]
        }
      ],
      "source": [
        "accuracy = accuracy_score(test_labels, image_predictions)\n",
        "print(f\"Model accuracy: {accuracy * 100:.2f}%\")"
      ]
    },
    {
      "cell_type": "markdown",
      "metadata": {},
      "source": [
        "### Part 2.Plot: **Plots-Predictions** <a name=\"plot\"></a>"
      ]
    },
    {
      "cell_type": "code",
      "execution_count": 34,
      "metadata": {},
      "outputs": [
        {
          "data": {
            "image/png": "[encoded data removed]",
            "text/plain": [
              "<Figure size 1500x1000 with 10 Axes>"
            ]
          },
          "metadata": {},
          "output_type": "display_data"
        }
      ],
      "source": [
        "plt.figure(figsize=(15, 10))\n",
        "for i in range(10):\n",
        "    plt.subplot(2, 5, i + 1)\n",
        "    plt.imshow(test_data[i].reshape(28, 28), cmap='gray')\n",
        "    plt.title(f\"Label: {test_labels[i]}, Pred: {image_predictions[i]}\")\n",
        "    plt.axis('off')\n",
        "plt.show()"
      ]
    },
    {
      "cell_type": "markdown",
      "metadata": {},
      "source": [
        "## **References:**<a name='ref'></a>\n"
      ]
    },
    {
      "cell_type": "markdown",
      "metadata": {},
      "source": [
        "    \n",
        "- https://chatgpt.com/share/67180066-595c-8012-83df-1bfd16ac37f0\n",
        "- https://www.knime.com/blog/sentiment-analysis-with-n-grams\n",
        "- https://github.com/nahbos/Data-Mining-on-DigiKala-datasets\n",
        "- https://github.com/zhpinkman/sentiment-analysis-digikala\n",
        "- https://arxiv.org/abs/2010.11929\n",
        "- https://github.com/Mofid-AI/persian-nlp-benchmark/blob/main/notebooks/sentiment-analysis/SentimentAnalysis_HooshvareLab_bert-fa-base-uncased-sentiment-digikala.ipynb\n",
        "- https://huggingface.co/learn/nlp-course/en/chapter6/6\n",
        "- https://medium.com/@atharv6f_47401/wordpiece-tokenization-a-bpe-variant-73cc48865cbf\n",
        "- https://www.sciencedirect.com/topics/computer-science/levenshtein-distance#:~:text=The%20Levenshtein%20distance%20is%20a%20string%20metric%20for%20measuring%20the,one%20word%20into%20the%20other.\n",
        "- https://www.geeksforgeeks.org/damerau-levenshtein-distance/\n",
        " "
      ]
    }
  ],
  "metadata": {
    "colab": {
      "provenance": []
    },
    "kernelspec": {
      "display_name": "base",
      "language": "python",
      "name": "python3"
    },
    "language_info": {
      "codemirror_mode": {
        "name": "ipython",
        "version": 3
      },
      "file_extension": ".py",
      "mimetype": "text/x-python",
      "name": "python",
      "nbconvert_exporter": "python",
      "pygments_lexer": "ipython3",
      "version": "3.11.7"
    }
  },
  "nbformat": 4,
  "nbformat_minor": 0
}
